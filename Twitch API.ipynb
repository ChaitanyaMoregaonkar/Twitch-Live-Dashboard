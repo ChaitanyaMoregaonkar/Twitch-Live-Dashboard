{
 "cells": [
  {
   "cell_type": "markdown",
   "metadata": {},
   "source": [
    "# Creating a live dashboard using Twitch API"
   ]
  },
  {
   "cell_type": "markdown",
   "metadata": {},
   "source": [
    "+ Twitch API let's you access live game, stream, and user-level data. In this project, we are trying to analyze the viewers for top streamers and how this variation changes through the factors like game, language, and country.\n",
    "+ Initial ideas are to create a live visualization that displays game level data, and top streamers within that.\n",
    "\n",
    "- Vardayini, Maddhujeet, and Kaivalya"
   ]
  },
  {
   "cell_type": "markdown",
   "metadata": {},
   "source": [
    "## Learning to access Twitch API"
   ]
  },
  {
   "cell_type": "markdown",
   "metadata": {},
   "source": [
    "### Importing libraries"
   ]
  },
  {
   "cell_type": "code",
   "execution_count": 1,
   "metadata": {},
   "outputs": [],
   "source": [
    "import json\n",
    "import requests\n",
    "import pandas as pd\n",
    "from pandas import json_normalize\n",
    "import time\n",
    "import threading"
   ]
  },
  {
   "cell_type": "markdown",
   "metadata": {},
   "source": [
    "### Acquiring access code from twitch using Client ID & Client Secret"
   ]
  },
  {
   "cell_type": "code",
   "execution_count": 2,
   "metadata": {},
   "outputs": [],
   "source": [
    "\n",
    "client_id = '0rwk25285ozd8rrb1a5ig23a5r2wae'\n",
    "client_secret = 'pirkkzb4uxf4z0hmkw1e9i3f49cf2w'\n",
    "\n",
    "access_code = requests.post('https://id.twitch.tv/oauth2/token?client_id='+str(client_id)+'&client_secret='+str(client_secret)+'&grant_type=client_credentials')\n",
    "           "
   ]
  },
  {
   "cell_type": "code",
   "execution_count": 3,
   "metadata": {},
   "outputs": [],
   "source": [
    "token = json.loads(access_code.text)\n",
    "access_token = token['access_token']"
   ]
  },
  {
   "cell_type": "code",
   "execution_count": 4,
   "metadata": {},
   "outputs": [],
   "source": [
    "headers = {\n",
    "    'Authorization' : 'Bearer '+str(access_token),\n",
    "    'Client-ID': client_id,\n",
    "}\n",
    "response = requests.get('https://api.twitch.tv/helix/streams?first=100', headers=headers)"
   ]
  },
  {
   "cell_type": "code",
   "execution_count": 5,
   "metadata": {},
   "outputs": [
    {
     "name": "stdout",
     "output_type": "stream",
     "text": [
      "{\"data\":[{\"id\":\"41908496216\",\"user_id\":\"90075649\",\"user_login\":\"illojuan\",\"user_name\":\"IlloJuan\",\"game_id\":\"509658\",\"game_name\":\"Just Chatting\",\"type\":\"live\",\"title\":\"EL CABRÓN 🐐 GRACIAS ❤️\",\"viewer_count\":48071,\"started_at\":\"2024-02-19T20:22:35Z\",\"language\":\"es\",\"thumbnail_url\":\"https://static-cdn.jtvnw.net/previews-ttv/live_user_illojuan-{width}x{height}.jpg\",\"tag_ids\":[],\"tags\":[\"Español\"],\"is_mature\":false},{\"id\":\"42328762985\",\"user_id\":\"65171890\",\"user_login\":\"rainbow6\",\"user_name\":\"Rainbow6\",\"game_id\":\"460630\",\"game_name\":\"Tom Clancy's Rainbow Six Siege\",\"type\":\"live\",\"title\":\"Six Invitational 2024 - Playoffs Day 1 - Spacestation Gaming vs DarkZero Esports\",\"viewer_count\":42103,\"started_at\":\"2024-02-19T15:58:23Z\",\"language\":\"en\",\"thumbnail_url\":\"https://static-cdn.jtvnw.net/previews-ttv/live_user_rainbow6-{width}x{height}.jpg\",\"tag_ids\":[],\"tags\":[\"English\",\"Esports\",\"ubisoft\",\"R6S\",\"rainbowsixsiege\",\"DropsEnabled\"],\"is_mature\":true},{\"id\":\"42328153705\",\"user_id\":\"181077473\",\"user_login\":\"gaules\",\"user_name\":\"Gaules\",\"game_id\":\"32399\",\"game_name\":\"Counter-Strike\",\"type\":\"live\",\"title\":\"O Plano vs SALAO DO CORTE IEM Dallas 2024 South America Open Qualifier 2  - Siga @Gaules nas redes sociais.\",\"viewer_count\":36384,\"started_at\":\"2024-02-19T10:37:16Z\",\"language\":\"pt\",\"thumbnail_url\":\"https://static-cdn.jtvnw.net/previews-ttv/live_user_gaules-{width}x{height}.jpg\",\"tag_ids\":[],\"tags\":[\"Português\",\"fps\",\"brasil\",\"brazil\",\"Portugues\",\"counterstrike\",\"cs\"],\"is_mature\":true},{\"id\":\"43655036843\",\"user_id\":\"36340781\",\"user_login\":\"tarik\",\"user_name\":\"tarik\",\"game_id\":\"516575\",\"game_name\":\"VALORANT\",\"type\":\"live\",\"title\":\"MIBR vs FURIA - VCT 2024: Americas Kickoff - Twitter @tarik\",\"viewer_count\":35292,\"started_at\":\"2024-02-19T21:51:31Z\",\"language\":\"en\",\"thumbnail_url\":\"https://static-cdn.jtvnw.net/previews-ttv/live_user_tarik-{width}x{height}.jpg\",\"tag_ids\":[],\"tags\":[\"English\"],\"is_mature\":false},{\"id\":\"50441180477\",\"user_id\":\"94753024\",\"user_login\":\"mizkif\",\"user_name\":\"Mizkif\",\"game_id\":\"509658\",\"game_name\":\"Just Chatting\",\"type\":\"live\",\"title\":\"GOING TO COMPETTING GYMS TO BRING IN NEW CUSTOMERS\",\"viewer_count\":29354,\"started_at\":\"2024-02-19T20:53:08Z\",\"language\":\"en\",\"thumbnail_url\":\"https://static-cdn.jtvnw.net/previews-ttv/live_user_mizkif-{width}x{height}.jpg\",\"tag_ids\":[],\"tags\":[\"ADHD\",\"Osteoporosis\",\"OTK\",\"STARFORGE\",\"STEROIDS\",\"Vtuber\",\"English\",\"rplace\"],\"is_mature\":false},{\"id\":\"41908829688\",\"user_id\":\"52130765\",\"user_login\":\"squeezie\",\"user_name\":\"Squeezie\",\"game_id\":\"940188387\",\"game_name\":\"The Classrooms\",\"type\":\"live\",\"title\":\"on joue à des jeux d'horreur ça fait lgtmps\",\"viewer_count\":28049,\"started_at\":\"2024-02-19T21:20:27Z\",\"language\":\"fr\",\"thumbnail_url\":\"https://static-cdn.jtvnw.net/previews-ttv/live_user_squeezie-{width}x{height}.jpg\",\"tag_ids\":[],\"tags\":[\"Français\"],\"is_mature\":false},{\"id\":\"41908401192\",\"user_id\":\"77827128\",\"user_login\":\"tumblurr\",\"user_name\":\"Tumblurr\",\"game_id\":\"509658\",\"game_name\":\"Just Chatting\",\"type\":\"live\",\"title\":\"KING IS ALIVE MEGA DRAMA ALERT | !vpn\",\"viewer_count\":25913,\"started_at\":\"2024-02-19T20:06:20Z\",\"language\":\"it\",\"thumbnail_url\":\"https://static-cdn.jtvnw.net/previews-ttv/live_user_tumblurr-{width}x{height}.jpg\",\"tag_ids\":[],\"tags\":[\"Italiano\"],\"is_mature\":false},{\"id\":\"50441244317\",\"user_id\":\"552120296\",\"user_login\":\"zackrawrr\",\"user_name\":\"zackrawrr\",\"game_id\":\"509658\",\"game_name\":\"Just Chatting\",\"type\":\"live\",\"title\":\"BIG DAY--NEWS/REACTS/GAMES--WUTHERING   WAVES CBT--MORE HELLDIVERS 2?!@StarforgeSystems @MadMushroomGG @MythicTalent\",\"viewer_count\":25537,\"started_at\":\"2024-02-19T21:01:08Z\",\"language\":\"en\",\"thumbnail_url\":\"https://static-cdn.jtvnw.net/previews-ttv/live_user_zackrawrr-{width}x{height}.jpg\",\"tag_ids\":[],\"tags\":[\"English\",\"OTK\",\"otknetwork\",\"StarForgePCs\",\"wow\",\"bald\",\"gaming\",\"worldofwarcraft\"],\"is_mature\":false},{\"id\":\"43654942683\",\"user_id\":\"598903130\",\"user_login\":\"valorant_americas\",\"user_name\":\"VALORANT_Americas\",\"game_id\":\"516575\",\"game_name\":\"VALORANT\",\"type\":\"live\",\"title\":\"Americas Kickoff - Group Stage Day 4\",\"viewer_count\":24661,\"started_at\":\"2024-02-19T21:31:11Z\",\"language\":\"en\",\"thumbnail_url\":\"https://static-cdn.jtvnw.net/previews-ttv/live_user_valorant_americas-{width}x{height}.jpg\",\"tag_ids\":[],\"tags\":[\"Esports\",\"English\"],\"is_mature\":false},{\"id\":\"43653906155\",\"user_id\":\"207813352\",\"user_login\":\"hasanabi\",\"user_name\":\"HasanAbi\",\"game_id\":\"509658\",\"game_name\":\"Just Chatting\",\"type\":\"live\",\"title\":\"🚨MONDAY NEWSDAY🚨GENZ CORRESPONDENT @SEANDABLACK 🚨DURAG STREAM 🚨 - !guest\",\"viewer_count\":23834,\"started_at\":\"2024-02-19T19:25:06Z\",\"language\":\"en\",\"thumbnail_url\":\"https://static-cdn.jtvnw.net/previews-ttv/live_user_hasanabi-{width}x{height}.jpg\",\"tag_ids\":[],\"tags\":[\"news\",\"politics\",\"adhd\",\"English\"],\"is_mature\":false},{\"id\":\"50442261277\",\"user_id\":\"531177917\",\"user_login\":\"paulinholokobr\",\"user_name\":\"PaulinhoLOKObr\",\"game_id\":\"32982\",\"game_name\":\"Grand Theft Auto V\",\"type\":\"live\",\"title\":\"MISSÃO no GTA HOJE!🔥PAULINHO O LOKO no GTA RP +18\",\"viewer_count\":19385,\"started_at\":\"2024-02-19T23:00:56Z\",\"language\":\"pt\",\"thumbnail_url\":\"https://static-cdn.jtvnw.net/previews-ttv/live_user_paulinholokobr-{width}x{height}.jpg\",\"tag_ids\":[],\"tags\":[\"Português\"],\"is_mature\":false},{\"id\":\"43653414123\",\"user_id\":\"51496027\",\"user_login\":\"loltyler1\",\"user_name\":\"loltyler1\",\"game_id\":\"21779\",\"game_name\":\"League of Legends\",\"type\":\"live\",\"title\":\"GET started HERE . FREEDOM WOOT WOOT ! great feel way lol tackle OBJECT AHEAD ! BOOOOOM ! massive HITTER WITH CLIMBED PURPOSE ! golly gee !!\",\"viewer_count\":19358,\"started_at\":\"2024-02-19T18:43:52Z\",\"language\":\"en\",\"thumbnail_url\":\"https://static-cdn.jtvnw.net/previews-ttv/live_user_loltyler1-{width}x{height}.jpg\",\"tag_ids\":[],\"tags\":[\"English\"],\"is_mature\":false},{\"id\":\"43654345003\",\"user_id\":\"163836275\",\"user_login\":\"lord_kebun\",\"user_name\":\"Lord_Kebun\",\"game_id\":\"32982\",\"game_name\":\"Grand Theft Auto V\",\"type\":\"live\",\"title\":\"MR. K CRIMINAL MASTERMIND 🚨 NoPixel 4.0 🚨\",\"viewer_count\":19162,\"started_at\":\"2024-02-19T20:02:27Z\",\"language\":\"en\",\"thumbnail_url\":\"https://static-cdn.jtvnw.net/previews-ttv/live_user_lord_kebun-{width}x{height}.jpg\",\"tag_ids\":[],\"tags\":[\"English\"],\"is_mature\":false},{\"id\":\"41908382056\",\"user_id\":\"109492660\",\"user_login\":\"reborn\",\"user_name\":\"Reborn\",\"game_id\":\"32982\",\"game_name\":\"Grand Theft Auto V\",\"type\":\"live\",\"title\":\"SPAINRP | SUPERINTENDENTE CONWAY +18\",\"viewer_count\":19149,\"started_at\":\"2024-02-19T20:02:39Z\",\"language\":\"es\",\"thumbnail_url\":\"https://static-cdn.jtvnw.net/previews-ttv/live_user_reborn-{width}x{height}.jpg\",\"tag_ids\":[],\"tags\":[\"Español\",\"Reborn\",\"rebornlive\"],\"is_mature\":false},{\"id\":\"43654500427\",\"user_id\":\"59799994\",\"user_login\":\"gabepeixe\",\"user_name\":\"gabepeixe\",\"game_id\":\"502732\",\"game_name\":\"Garena Free Fire\",\"type\":\"live\",\"title\":\"FINAL DA NOISE MFL!\",\"viewer_count\":19108,\"started_at\":\"2024-02-19T20:19:29Z\",\"language\":\"pt\",\"thumbnail_url\":\"https://static-cdn.jtvnw.net/previews-ttv/live_user_gabepeixe-{width}x{height}.jpg\",\"tag_ids\":[],\"tags\":[\"Português\",\"Minecraft\",\"Gabepeixe\",\"Gabe\",\"GTAⅤ\",\"Freeefire\"],\"is_mature\":false},{\"id\":\"50439405645\",\"user_id\":\"12875057\",\"user_login\":\"gronkh\",\"user_name\":\"GRONKH\",\"game_id\":\"737987407\",\"game_name\":\"Enshrouded\",\"type\":\"live\",\"title\":\"YO BRATIK! @TOBINATORLP \\u0026 @GRONKH RETTEN DIE WELT ⭐ #Enshrouded ⭐ oder 24/7 auf @GRONKHTV ⭐ !comic !archiv !shop\",\"viewer_count\":18232,\"started_at\":\"2024-02-19T17:09:05Z\",\"language\":\"de\",\"thumbnail_url\":\"https://static-cdn.jtvnw.net/previews-ttv/live_user_gronkh-{width}x{height}.jpg\",\"tag_ids\":[],\"tags\":[\"TollerStream\",\"SoEinTollerStream\",\"EinfachNurToll\",\"Wirklich\",\"Deutsch\",\"toll\",\"Banishers\"],\"is_mature\":true},{\"id\":\"50439375917\",\"user_id\":\"23161357\",\"user_login\":\"lirik\",\"user_name\":\"LIRIK\",\"game_id\":\"1952699919\",\"game_name\":\"Deep Rock Galactic: Survivor\",\"type\":\"live\",\"title\":\"Chillin\",\"viewer_count\":17941,\"started_at\":\"2024-02-19T17:06:18Z\",\"language\":\"en\",\"thumbnail_url\":\"https://static-cdn.jtvnw.net/previews-ttv/live_user_lirik-{width}x{height}.jpg\",\"tag_ids\":[],\"tags\":[\"English\"],\"is_mature\":false},{\"id\":\"42329775977\",\"user_id\":\"198633200\",\"user_login\":\"filian\",\"user_name\":\"filian\",\"game_id\":\"509658\",\"game_name\":\"Just Chatting\",\"type\":\"live\",\"title\":\"🔥 FILIAN X DOKIBIRD HOT ONES 🔥\",\"viewer_count\":16677,\"started_at\":\"2024-02-19T22:05:20Z\",\"language\":\"en\",\"thumbnail_url\":\"https://static-cdn.jtvnw.net/previews-ttv/live_user_filian-{width}x{height}.jpg\",\"tag_ids\":[],\"tags\":[\"ENVtuber\",\"English\"],\"is_mature\":false},{\"id\":\"40467585125\",\"user_id\":\"155601320\",\"user_login\":\"jltomy\",\"user_name\":\"JLTomy\",\"game_id\":\"32982\",\"game_name\":\"Grand Theft Auto V\",\"type\":\"live\",\"title\":\"Sergent-Chef 113 : Bras armé de la justice, cauchemar des criminels !\",\"viewer_count\":16644,\"started_at\":\"2024-02-19T19:39:11Z\",\"language\":\"fr\",\"thumbnail_url\":\"https://static-cdn.jtvnw.net/previews-ttv/live_user_jltomy-{width}x{height}.jpg\",\"tag_ids\":[],\"tags\":[\"Français\",\"Joblife\"],\"is_mature\":false},{\"id\":\"41908575432\",\"user_id\":\"27115917\",\"user_login\":\"kamet0\",\"user_name\":\"Kamet0\",\"game_id\":\"18846\",\"game_name\":\"Garry's Mod\",\"type\":\"live\",\"title\":\"NARUTO RP |  MAZARU UCHIHA SE LANCE DANS UNE NOUVELLE AVENTURE (!match) (!extension)\",\"viewer_count\":16605,\"started_at\":\"2024-02-19T20:36:59Z\",\"language\":\"fr\",\"thumbnail_url\":\"https://static-cdn.jtvnw.net/previews-ttv/live_user_kamet0-{width}x{height}.jpg\",\"tag_ids\":[],\"tags\":[\"Français\"],\"is_mature\":false},{\"id\":\"40466730565\",\"user_id\":\"85397463\",\"user_login\":\"noway4u_sir\",\"user_name\":\"NoWay4u_Sir\",\"game_id\":\"21779\",\"game_name\":\"League of Legends\",\"type\":\"live\",\"title\":\"Shaco (Versuch 2) - Z-A\",\"viewer_count\":16435,\"started_at\":\"2024-02-19T14:51:04Z\",\"language\":\"de\",\"thumbnail_url\":\"https://static-cdn.jtvnw.net/previews-ttv/live_user_noway4u_sir-{width}x{height}.jpg\",\"tag_ids\":[],\"tags\":[\"Deutsch\"],\"is_mature\":false},{\"id\":\"50441999245\",\"user_id\":\"233300375\",\"user_login\":\"clix\",\"user_name\":\"Clix\",\"game_id\":\"33214\",\"game_name\":\"Fortnite\",\"type\":\"live\",\"title\":\"🏆 BECOMING THE BEST PLAYER BEFORE GRAND FINALS  🏆\",\"viewer_count\":16021,\"started_at\":\"2024-02-19T22:28:45Z\",\"language\":\"en\",\"thumbnail_url\":\"https://static-cdn.jtvnw.net/previews-ttv/live_user_clix-{width}x{height}.jpg\",\"tag_ids\":[],\"tags\":[\"English\"],\"is_mature\":false},{\"id\":\"50439484109\",\"user_id\":\"23735582\",\"user_login\":\"sacriel\",\"user_name\":\"Sacriel\",\"game_id\":\"766571430\",\"game_name\":\"HELLDIVERS 2\",\"type\":\"live\",\"title\":\"[✅DROPS ON] LET THE LIBER-TEA FLOW || !Announcement\",\"viewer_count\":15142,\"started_at\":\"2024-02-19T17:16:45Z\",\"language\":\"en\",\"thumbnail_url\":\"https://static-cdn.jtvnw.net/previews-ttv/live_user_sacriel-{width}x{height}.jpg\",\"tag_ids\":[],\"tags\":[\"Educational\",\"Analysis\",\"KeyboardAndMouse\",\"The42nd\",\"Banter\",\"British\",\"Canadian\",\"English\",\"DropsEnabled\"],\"is_mature\":false},{\"id\":\"41908772088\",\"user_id\":\"96116107\",\"user_login\":\"mixwell\",\"user_name\":\"Mixwell\",\"game_id\":\"516575\",\"game_name\":\"VALORANT\",\"type\":\"live\",\"title\":\"[ES] WATCHPARTY VCT Americas Kick-Off 2024 #VCTWatchParty 23:00 - [FURIA VS MIBR] - 02:00[SENTINELS VS 100THIEVES]\",\"viewer_count\":13400,\"started_at\":\"2024-02-19T21:09:36Z\",\"language\":\"es\",\"thumbnail_url\":\"https://static-cdn.jtvnw.net/previews-ttv/live_user_mixwell-{width}x{height}.jpg\",\"tag_ids\":[],\"tags\":[\"Español\",\"Heretics\",\"mixwell\",\"m1xwell\",\"valorant\",\"pro\",\"Esports\",\"watchparty\"],\"is_mature\":false},{\"id\":\"43653690459\",\"user_id\":\"499928989\",\"user_login\":\"tck10\",\"user_name\":\"TcK10\",\"game_id\":\"516575\",\"game_name\":\"VALORANT\",\"type\":\"live\",\"title\":\"MIBR 1x0 FURIA🐔MAIOR BÍCEPS RADIANTE 143qi 51 bíceps vida social ativa🐔!Growth !Gillette !Social\",\"viewer_count\":13024,\"started_at\":\"2024-02-19T19:04:31Z\",\"language\":\"pt\",\"thumbnail_url\":\"https://static-cdn.jtvnw.net/previews-ttv/live_user_tck10-{width}x{height}.jpg\",\"tag_ids\":[],\"tags\":[\"melhordomundo\",\"radiante\",\"incrível\",\"valorant\",\"Português\"],\"is_mature\":false},{\"id\":\"50441360605\",\"user_id\":\"502014446\",\"user_login\":\"valorant_br\",\"user_name\":\"VALORANT_BR\",\"game_id\":\"516575\",\"game_name\":\"VALORANT\",\"type\":\"live\",\"title\":\"MIBR 1x0 FURIA | VCT Americas Kickoff - Fase de Grupos (Dia 4)\",\"viewer_count\":12960,\"started_at\":\"2024-02-19T21:14:46Z\",\"language\":\"pt\",\"thumbnail_url\":\"https://static-cdn.jtvnw.net/previews-ttv/live_user_valorant_br-{width}x{height}.jpg\",\"tag_ids\":[],\"tags\":[\"Esports\",\"português\",\"Português\"],\"is_mature\":false},{\"id\":\"43653504443\",\"user_id\":\"26301881\",\"user_login\":\"sodapoppin\",\"user_name\":\"sodapoppin\",\"game_id\":\"1281851716\",\"game_name\":\"The Break-In\",\"type\":\"live\",\"title\":\"OH MY GOD CAPS LOCK I CANT BELIEVE IT CLICK OMFG | !starforge !gamersupps\",\"viewer_count\":12662,\"started_at\":\"2024-02-19T18:52:46Z\",\"language\":\"en\",\"thumbnail_url\":\"https://static-cdn.jtvnw.net/previews-ttv/live_user_sodapoppin-{width}x{height}.jpg\",\"tag_ids\":[],\"tags\":[\"Anime\",\"Vtuber\",\"Furry\",\"English\",\"ADHD\",\"NoBackseating\",\"Hardcore\"],\"is_mature\":true},{\"id\":\"40467304869\",\"user_id\":\"431146848\",\"user_login\":\"desst3\",\"user_name\":\"DessT3\",\"game_id\":\"32982\",\"game_name\":\"Grand Theft Auto V\",\"type\":\"live\",\"title\":\"FREDDY | EL OJO QUE TODO LO VE | !ig   SPAINRP\",\"viewer_count\":12111,\"started_at\":\"2024-02-19T18:04:00Z\",\"language\":\"es\",\"thumbnail_url\":\"https://static-cdn.jtvnw.net/previews-ttv/live_user_desst3-{width}x{height}.jpg\",\"tag_ids\":[],\"tags\":[\"conducción\",\"música\",\"Gta\",\"Español\",\"desst3\",\"Dess\",\"Rolplay\",\"NoPixel\"],\"is_mature\":true},{\"id\":\"50438701453\",\"user_id\":\"140772558\",\"user_login\":\"baiano\",\"user_name\":\"Baiano\",\"game_id\":\"21779\",\"game_name\":\"League of Legends\",\"type\":\"live\",\"title\":\"🟢 CBLOL ACADEMY AO VIVO: KBM x FUR 🔥🟢 🌴 ILHA DAS LENDAS #CBLOL\",\"viewer_count\":11921,\"started_at\":\"2024-02-19T15:05:15Z\",\"language\":\"pt\",\"thumbnail_url\":\"https://static-cdn.jtvnw.net/previews-ttv/live_user_baiano-{width}x{height}.jpg\",\"tag_ids\":[],\"tags\":[\"CBLOL\",\"LCK\",\"LCS\",\"COSTREAM\",\"T1\",\"Baiano\",\"LPL\",\"Academy\",\"Português\",\"Flamengo\"],\"is_mature\":true},{\"id\":\"43655384811\",\"user_id\":\"267635380\",\"user_login\":\"luquet4\",\"user_name\":\"LuquEt4\",\"game_id\":\"32982\",\"game_name\":\"Grand Theft Auto V\",\"type\":\"live\",\"title\":\"+18 🔥RED BEIRAMAR🔥 PIXAMO A FAVELA DE GERAL! VMS SER COBRADO? / Ep 26 !betano\",\"viewer_count\":11230,\"started_at\":\"2024-02-19T22:50:44Z\",\"language\":\"pt\",\"thumbnail_url\":\"https://static-cdn.jtvnw.net/previews-ttv/live_user_luquet4-{width}x{height}.jpg\",\"tag_ids\":[],\"tags\":[\"Português\",\"redbeiramar\",\"luquet4\",\"grota\",\"gta\",\"luqueta\"],\"is_mature\":false},{\"id\":\"43654196203\",\"user_id\":\"128002336\",\"user_login\":\"s0mcs\",\"user_name\":\"s0mcs\",\"game_id\":\"516575\",\"game_name\":\"VALORANT\",\"type\":\"live\",\"title\":\"W STREAMER @s0mcs | FURIA vs MIBR - Americas Kickoff - Group Stage Day 4 | !video !socials !instagram\",\"viewer_count\":11067,\"started_at\":\"2024-02-19T19:52:00Z\",\"language\":\"en\",\"thumbnail_url\":\"https://static-cdn.jtvnw.net/previews-ttv/live_user_s0mcs-{width}x{height}.jpg\",\"tag_ids\":[],\"tags\":[\"VALORANT\",\"English\"],\"is_mature\":false},{\"id\":\"40467996933\",\"user_id\":\"79769388\",\"user_login\":\"unsympathisch_tv\",\"user_name\":\"unsympathisch_tv\",\"game_id\":\"509658\",\"game_name\":\"Just Chatting\",\"type\":\"live\",\"title\":\"LIVE REACTION BALLER LEAGUE - WIR MÜSSEN GEWINNEN!\",\"viewer_count\":10580,\"started_at\":\"2024-02-19T21:42:12Z\",\"language\":\"de\",\"thumbnail_url\":\"https://static-cdn.jtvnw.net/previews-ttv/live_user_unsympathisch_tv-{width}x{height}.jpg\",\"tag_ids\":[],\"tags\":[\"Deutsch\"],\"is_mature\":true},{\"id\":\"43654235131\",\"user_id\":\"95873995\",\"user_login\":\"ramee\",\"user_name\":\"Ramee\",\"game_id\":\"32982\",\"game_name\":\"Grand Theft Auto V\",\"type\":\"live\",\"title\":\"Ramee | NoPixel 4.0\",\"viewer_count\":10540,\"started_at\":\"2024-02-19T19:55:32Z\",\"language\":\"en\",\"thumbnail_url\":\"https://static-cdn.jtvnw.net/previews-ttv/live_user_ramee-{width}x{height}.jpg\",\"tag_ids\":[],\"tags\":[\"English\"],\"is_mature\":false},{\"id\":\"40467943925\",\"user_id\":\"87183799\",\"user_login\":\"tikyjr\",\"user_name\":\"Tikyjr\",\"game_id\":\"21779\",\"game_name\":\"League of Legends\",\"type\":\"live\",\"title\":\"SOLOQ FULL TRYHARD | (UNE VIDÉO YOUTUBE PAR JOUR) | !youtube\",\"viewer_count\":10507,\"started_at\":\"2024-02-19T21:28:04Z\",\"language\":\"fr\",\"thumbnail_url\":\"https://static-cdn.jtvnw.net/previews-ttv/live_user_tikyjr-{width}x{height}.jpg\",\"tag_ids\":[],\"tags\":[\"LeagueOfLegends\",\"Français\"],\"is_mature\":false},{\"id\":\"40468369189\",\"user_id\":\"1039034874\",\"user_login\":\"simple_skins74534\",\"user_name\":\"simple_skins74534\",\"game_id\":\"32399\",\"game_name\":\"Counter-Strike\",\"type\":\"live\",\"title\":\"s1mple giveaway 50000$\",\"viewer_count\":10490,\"started_at\":\"2024-02-19T23:17:30Z\",\"language\":\"en\",\"thumbnail_url\":\"https://static-cdn.jtvnw.net/previews-ttv/live_user_simple_skins74534-{width}x{height}.jpg\",\"tag_ids\":[],\"tags\":[\"English\"],\"is_mature\":false},{\"id\":\"50441957069\",\"user_id\":\"106820088\",\"user_login\":\"carreraaa\",\"user_name\":\"Carreraaa\",\"game_id\":\"509658\",\"game_name\":\"Just Chatting\",\"type\":\"live\",\"title\":\"lunes 😓 con L de 👉🏼 lamen 😛 mis huevos 🥚\",\"viewer_count\":10419,\"started_at\":\"2024-02-19T22:23:48Z\",\"language\":\"es\",\"thumbnail_url\":\"https://static-cdn.jtvnw.net/previews-ttv/live_user_carreraaa-{width}x{height}.jpg\",\"tag_ids\":[],\"tags\":[\"Español\"],\"is_mature\":false},{\"id\":\"40467296789\",\"user_id\":\"3389768\",\"user_login\":\"philza\",\"user_name\":\"Philza\",\"game_id\":\"27471\",\"game_name\":\"Minecraft\",\"type\":\"live\",\"title\":\"QSMP - Money, It's a crime, Share it fairly, but don't take a slice of my pie  - !qsmp !ceasefire\",\"viewer_count\":10147,\"started_at\":\"2024-02-19T18:00:06Z\",\"language\":\"en\",\"thumbnail_url\":\"https://static-cdn.jtvnw.net/previews-ttv/live_user_philza-{width}x{height}.jpg\",\"tag_ids\":[],\"tags\":[\"Philza\",\"blockgame\",\"distracted\",\"English\"],\"is_mature\":false},{\"id\":\"42328576985\",\"user_id\":\"128775333\",\"user_login\":\"coreano\",\"user_name\":\"Coreano\",\"game_id\":\"516575\",\"game_name\":\"VALORANT\",\"type\":\"live\",\"title\":\"MIBR 1x0 FURIA (Md3) | VCT Americas Kickoff Fase de Grupos (Dia 4) | !olimpo !reddit\",\"viewer_count\":10129,\"started_at\":\"2024-02-19T15:00:05Z\",\"language\":\"pt\",\"thumbnail_url\":\"https://static-cdn.jtvnw.net/previews-ttv/live_user_coreano-{width}x{height}.jpg\",\"tag_ids\":[],\"tags\":[\"Português\"],\"is_mature\":false},{\"id\":\"41907989640\",\"user_id\":\"135468063\",\"user_login\":\"antoinedaniel\",\"user_name\":\"AntoineDaniel\",\"game_id\":\"516575\",\"game_name\":\"VALORANT\",\"type\":\"live\",\"title\":\"juste une\",\"viewer_count\":9912,\"started_at\":\"2024-02-19T18:46:22Z\",\"language\":\"fr\",\"thumbnail_url\":\"https://static-cdn.jtvnw.net/previews-ttv/live_user_antoinedaniel-{width}x{height}.jpg\",\"tag_ids\":[],\"tags\":[\"Français\"],\"is_mature\":true},{\"id\":\"43653260827\",\"user_id\":\"38244180\",\"user_login\":\"alanzoka\",\"user_name\":\"alanzoka\",\"game_id\":\"21842902\",\"game_name\":\"Banishers: Ghosts of New Eden\",\"type\":\"live\",\"title\":\"TERMINANDO BANISHERS MEU DEUS MAIS UM JOGO O CARA É UM MESTRE NA ARTE DE FINALIZAR JOGOS ELETRONICOS\",\"viewer_count\":9522,\"started_at\":\"2024-02-19T18:27:45Z\",\"language\":\"pt\",\"thumbnail_url\":\"https://static-cdn.jtvnw.net/previews-ttv/live_user_alanzoka-{width}x{height}.jpg\",\"tag_ids\":[],\"tags\":[\"Idoso\",\"Gostoso\",\"Português\"],\"is_mature\":false},{\"id\":\"40466923349\",\"user_id\":\"28575692\",\"user_login\":\"mistermv\",\"user_name\":\"mistermv\",\"game_id\":\"745589378\",\"game_name\":\"Balatro\",\"type\":\"live\",\"title\":\"LE RETOUR DU ROI DE COEUR - BALATRO 1.0\",\"viewer_count\":9417,\"started_at\":\"2024-02-19T15:56:04Z\",\"language\":\"fr\",\"thumbnail_url\":\"https://static-cdn.jtvnw.net/previews-ttv/live_user_mistermv-{width}x{height}.jpg\",\"tag_ids\":[],\"tags\":[\"Français\"],\"is_mature\":false},{\"id\":\"42329916697\",\"user_id\":\"111799555\",\"user_login\":\"bonsaibroz\",\"user_name\":\"BonsaiBroz\",\"game_id\":\"512980\",\"game_name\":\"Fall Guys\",\"type\":\"live\",\"title\":\"!BK Million Dollar Whopper® Contest | Showdown Prep! TopThat! #AD\",\"viewer_count\":9209,\"started_at\":\"2024-02-19T22:56:22Z\",\"language\":\"en\",\"thumbnail_url\":\"https://static-cdn.jtvnw.net/previews-ttv/live_user_bonsaibroz-{width}x{height}.jpg\",\"tag_ids\":[],\"tags\":[\"Chatty\",\"Welcoming\",\"community\",\"English\",\"gigachad\",\"hotchat\",\"Bonsai\"],\"is_mature\":false},{\"id\":\"43654415883\",\"user_id\":\"427632467\",\"user_login\":\"lvndmark\",\"user_name\":\"LVNDMARK\",\"game_id\":\"491931\",\"game_name\":\"Escape from Tarkov\",\"type\":\"live\",\"title\":\"🚨 2x PC !GIVEAWAY 🚨 | LVNDMARK_TV On Socials\",\"viewer_count\":8709,\"started_at\":\"2024-02-19T20:09:07Z\",\"language\":\"en\",\"thumbnail_url\":\"https://static-cdn.jtvnw.net/previews-ttv/live_user_lvndmark-{width}x{height}.jpg\",\"tag_ids\":[],\"tags\":[\"PvP\",\"GIGACHAD\",\"Pizza\",\"Tripod\",\"English\"],\"is_mature\":false},{\"id\":\"43653337611\",\"user_id\":\"38746172\",\"user_login\":\"esfandtv\",\"user_name\":\"EsfandTV\",\"game_id\":\"32982\",\"game_name\":\"Grand Theft Auto V\",\"type\":\"live\",\"title\":\"Cornwood GTA RP - @esfandtv on all socials!\",\"viewer_count\":8660,\"started_at\":\"2024-02-19T18:34:32Z\",\"language\":\"en\",\"thumbnail_url\":\"https://static-cdn.jtvnw.net/previews-ttv/live_user_esfandtv-{width}x{height}.jpg\",\"tag_ids\":[],\"tags\":[\"English\",\"IRL\",\"Football\",\"sports\",\"Cornwood\",\"GTARP\",\"NoPixel\",\"OTK\"],\"is_mature\":false},{\"id\":\"50442210189\",\"user_id\":\"26490481\",\"user_login\":\"summit1g\",\"user_name\":\"summit1g\",\"game_id\":\"491931\",\"game_name\":\"Escape from Tarkov\",\"type\":\"live\",\"title\":\"trying to get last two items for Kappa - @summit1g\",\"viewer_count\":8584,\"started_at\":\"2024-02-19T22:53:39Z\",\"language\":\"en\",\"thumbnail_url\":\"https://static-cdn.jtvnw.net/previews-ttv/live_user_summit1g-{width}x{height}.jpg\",\"tag_ids\":[],\"tags\":[\"English\"],\"is_mature\":false},{\"id\":\"41909143560\",\"user_id\":\"935309911\",\"user_login\":\"aiworld_official\",\"user_name\":\"aiworld_official\",\"game_id\":\"116747788\",\"game_name\":\"Pools, Hot Tubs, and Beaches\",\"type\":\"live\",\"title\":\"AI World -  Season 2 (FINAL stream)\",\"viewer_count\":8555,\"started_at\":\"2024-02-19T22:56:04Z\",\"language\":\"en\",\"thumbnail_url\":\"https://static-cdn.jtvnw.net/previews-ttv/live_user_aiworld_official-{width}x{height}.jpg\",\"tag_ids\":[],\"tags\":[\"ai\",\"hungergames\",\"streamers\",\"SpongeBob\",\"peter\",\"topics\",\"show\",\"bikini\",\"English\",\"TwerkOff\"],\"is_mature\":false},{\"id\":\"43653288027\",\"user_id\":\"121510236\",\"user_login\":\"juansguarnizo\",\"user_name\":\"juansguarnizo\",\"game_id\":\"32982\",\"game_name\":\"Grand Theft Auto V\",\"type\":\"live\",\"title\":\"LEONARDO EL PADRE DEL AÑO 👶💕 + WARZONE c/ ElDed (el que haga el chiste va ban)\",\"viewer_count\":8096,\"started_at\":\"2024-02-19T18:30:05Z\",\"language\":\"es\",\"thumbnail_url\":\"https://static-cdn.jtvnw.net/previews-ttv/live_user_juansguarnizo-{width}x{height}.jpg\",\"tag_ids\":[],\"tags\":[\"Español\"],\"is_mature\":false},{\"id\":\"41907640696\",\"user_id\":\"1895664\",\"user_login\":\"djmariio\",\"user_name\":\"DjMaRiiO\",\"game_id\":\"143106037\",\"game_name\":\"EA Sports FC 24\",\"type\":\"live\",\"title\":\"MBAPPÉ YA HA FIRMADO CON EL MADRID | ME ROBAN 1 ESLAND | FUT CHAMPIONS LLORANDO | HOY NO HAY AFTER KINGS - DjMaRiiO\",\"viewer_count\":8051,\"started_at\":\"2024-02-19T17:37:44Z\",\"language\":\"es\",\"thumbnail_url\":\"https://static-cdn.jtvnw.net/previews-ttv/live_user_djmariio-{width}x{height}.jpg\",\"tag_ids\":[],\"tags\":[\"DJMARIO\",\"DJMARIIO\",\"FIFA\",\"FC24\",\"FC\",\"Español\",\"KINGSLEAGUE\",\"FINALFOUR\",\"KINGDOM\",\"ULTIMATEMOSTOLES\"],\"is_mature\":false},{\"id\":\"42328562297\",\"user_id\":\"123182260\",\"user_login\":\"hiswattson\",\"user_name\":\"HisWattson\",\"game_id\":\"511224\",\"game_name\":\"Apex Legends\",\"type\":\"live\",\"title\":\"Going for Rank #1 Apex Predator !coaching\",\"viewer_count\":7994,\"started_at\":\"2024-02-19T14:54:57Z\",\"language\":\"en\",\"thumbnail_url\":\"https://static-cdn.jtvnw.net/previews-ttv/live_user_hiswattson-{width}x{height}.jpg\",\"tag_ids\":[],\"tags\":[\"English\",\"DropsEnabled\"],\"is_mature\":false},{\"id\":\"43652818667\",\"user_id\":\"40972890\",\"user_login\":\"admiralbahroo\",\"user_name\":\"AdmiralBahroo\",\"game_id\":\"1952699919\",\"game_name\":\"Deep Rock Galactic: Survivor\",\"type\":\"live\",\"title\":\"Hazard 5 All Classes and we never lose | Nightingale Tomorrow!\",\"viewer_count\":7973,\"started_at\":\"2024-02-19T16:10:09Z\",\"language\":\"en\",\"thumbnail_url\":\"https://static-cdn.jtvnw.net/previews-ttv/live_user_admiralbahroo-{width}x{height}.jpg\",\"tag_ids\":[],\"tags\":[\"Comfy\",\"Relaxed\",\"Stream\",\"English\",\"Vtuber\"],\"is_mature\":false},{\"id\":\"41907434440\",\"user_id\":\"430023505\",\"user_login\":\"xrohat\",\"user_name\":\"xRohat\",\"game_id\":\"516575\",\"game_name\":\"VALORANT\",\"type\":\"live\",\"title\":\"Valorant mit @Eldos | !kingcans !sourire\",\"viewer_count\":7926,\"started_at\":\"2024-02-19T16:50:59Z\",\"language\":\"de\",\"thumbnail_url\":\"https://static-cdn.jtvnw.net/previews-ttv/live_user_xrohat-{width}x{height}.jpg\",\"tag_ids\":[],\"tags\":[\"Deutsch\"],\"is_mature\":false},{\"id\":\"50441545437\",\"user_id\":\"47119647\",\"user_login\":\"tteuw\",\"user_name\":\"tteuw\",\"game_id\":\"516575\",\"game_name\":\"VALORANT\",\"type\":\"live\",\"title\":\"MIBR 1x0 FURIA | !PCGAMER #VCTWatchParty\",\"viewer_count\":7804,\"started_at\":\"2024-02-19T21:35:25Z\",\"language\":\"pt\",\"thumbnail_url\":\"https://static-cdn.jtvnw.net/previews-ttv/live_user_tteuw-{width}x{height}.jpg\",\"tag_ids\":[],\"tags\":[\"Português\"],\"is_mature\":true},{\"id\":\"41907620920\",\"user_id\":\"122808988\",\"user_login\":\"edizderbreite\",\"user_name\":\"edizderbreite\",\"game_id\":\"32982\",\"game_name\":\"Grand Theft Auto V\",\"type\":\"live\",\"title\":\"[FINALCITY] FARUD RP🔥18+ | !Biteem !ESN ᵃᵈ\",\"viewer_count\":7736,\"started_at\":\"2024-02-19T17:33:43Z\",\"language\":\"de\",\"thumbnail_url\":\"https://static-cdn.jtvnw.net/previews-ttv/live_user_edizderbreite-{width}x{height}.jpg\",\"tag_ids\":[],\"tags\":[\"Deutsch\",\"Roleplay\",\"Unterhaltung\"],\"is_mature\":true},{\"id\":\"42329265849\",\"user_id\":\"40488774\",\"user_login\":\"stray228\",\"user_name\":\"Stray228\",\"game_id\":\"29595\",\"game_name\":\"Dota 2\",\"type\":\"live\",\"title\":\"ЧЕМПИОНСКОЕ ДЕРЬМО!Тренировочка на центральной линии с крепкими мужчинами, Барьбэ за очко рейтинга\",\"viewer_count\":7592,\"started_at\":\"2024-02-19T18:51:40Z\",\"language\":\"ru\",\"thumbnail_url\":\"https://static-cdn.jtvnw.net/previews-ttv/live_user_stray228-{width}x{height}.jpg\",\"tag_ids\":[],\"tags\":[\"dota2\",\"высокийскилл\",\"адекватнаяатмосфера\",\"хорошаямузыка\",\"Proplayer\",\"Обучение\",\"mid\",\"солевойстример\",\"legend\",\"Русский\"],\"is_mature\":false},{\"id\":\"50441763021\",\"user_id\":\"262319971\",\"user_login\":\"batalhadaaldeia\",\"user_name\":\"BatalhaDaAldeia\",\"game_id\":\"26936\",\"game_name\":\"Music\",\"type\":\"live\",\"title\":\"BDA  361! 16 MCS DIRETO DA PRAÇA!  !mcs !musicpro !vans !vkodonto\",\"viewer_count\":7514,\"started_at\":\"2024-02-19T22:02:01Z\",\"language\":\"pt\",\"thumbnail_url\":\"https://static-cdn.jtvnw.net/previews-ttv/live_user_batalhadaaldeia-{width}x{height}.jpg\",\"tag_ids\":[],\"tags\":[\"BDA\",\"Batalhadaaldeia\",\"HipHop\",\"Português\"],\"is_mature\":false},{\"id\":\"50441537933\",\"user_id\":\"90222258\",\"user_login\":\"agent00\",\"user_name\":\"Agent00\",\"game_id\":\"538054672\",\"game_name\":\"TEKKEN 8\",\"type\":\"live\",\"title\":\"LAST STREAM BEFORE I LEAVEEEE\",\"viewer_count\":7501,\"started_at\":\"2024-02-19T21:34:43Z\",\"language\":\"en\",\"thumbnail_url\":\"https://static-cdn.jtvnw.net/previews-ttv/live_user_agent00-{width}x{height}.jpg\",\"tag_ids\":[],\"tags\":[\"AMP\",\"AGENT00\",\"English\"],\"is_mature\":false},{\"id\":\"42328289961\",\"user_id\":\"68727743\",\"user_login\":\"razah\",\"user_name\":\"RazaH\",\"game_id\":\"460630\",\"game_name\":\"Tom Clancy's Rainbow Six Siege\",\"type\":\"live\",\"title\":\"Virtus Pro 1 vs 0 NIP l SIX INVITATIONAL BRAZIL2024\",\"viewer_count\":7494,\"started_at\":\"2024-02-19T12:44:21Z\",\"language\":\"pt\",\"thumbnail_url\":\"https://static-cdn.jtvnw.net/previews-ttv/live_user_razah-{width}x{height}.jpg\",\"tag_ids\":[],\"tags\":[\"Português\",\"DropsAtivados\"],\"is_mature\":false},{\"id\":\"50440852061\",\"user_id\":\"821717189\",\"user_login\":\"ilrossopiubelloditwitch\",\"user_name\":\"ilrossopiubelloditwitch\",\"game_id\":\"509658\",\"game_name\":\"Just Chatting\",\"type\":\"live\",\"title\":\"🕺CASA NUOVA?!🕺 OSPITI: la mia ragazza, jenni serpi, matilde, icy subzero, rebecca, giovanni bonaccini🕺\",\"viewer_count\":7234,\"started_at\":\"2024-02-19T20:07:37Z\",\"language\":\"it\",\"thumbnail_url\":\"https://static-cdn.jtvnw.net/previews-ttv/live_user_ilrossopiubelloditwitch-{width}x{height}.jpg\",\"tag_ids\":[],\"tags\":[\"Italiano\",\"INTRATTENIMENTO\",\"rosso\"],\"is_mature\":false},{\"id\":\"41908843192\",\"user_id\":\"13884994\",\"user_login\":\"zerkaa\",\"user_name\":\"Zerkaa\",\"game_id\":\"32982\",\"game_name\":\"Grand Theft Auto V\",\"type\":\"live\",\"title\":\"🟢 TOMMY T 🟢 DON'T KNOW ABOUT ME 🟢NOPIXEL 4.0 🟢 !schedule !yt\",\"viewer_count\":7222,\"started_at\":\"2024-02-19T21:23:11Z\",\"language\":\"en\",\"thumbnail_url\":\"https://static-cdn.jtvnw.net/previews-ttv/live_user_zerkaa-{width}x{height}.jpg\",\"tag_ids\":[],\"tags\":[\"English\"],\"is_mature\":false},{\"id\":\"41907909464\",\"user_id\":\"66418614\",\"user_login\":\"gofns\",\"user_name\":\"GOFNS\",\"game_id\":\"516575\",\"game_name\":\"VALORANT\",\"type\":\"live\",\"title\":\"@GOFNS | WATCH PARTY NOW! FURIA vs MIBR - Americas Kickoff - Group Stage Day 4 | !socials !newvid !2.25k !watchparty 󠀀\",\"viewer_count\":7055,\"started_at\":\"2024-02-19T18:31:34Z\",\"language\":\"en\",\"thumbnail_url\":\"https://static-cdn.jtvnw.net/previews-ttv/live_user_gofns-{width}x{height}.jpg\",\"tag_ids\":[],\"tags\":[\"English\"],\"is_mature\":false},{\"id\":\"43653251003\",\"user_id\":\"40063341\",\"user_login\":\"domingo\",\"user_name\":\"Domingo\",\"game_id\":\"2091165871\",\"game_name\":\"Football Manager 2024\",\"type\":\"live\",\"title\":\"DEBUT DE LA SAISON EN LIGUE 2 !!\",\"viewer_count\":6973,\"started_at\":\"2024-02-19T18:26:47Z\",\"language\":\"fr\",\"thumbnail_url\":\"https://static-cdn.jtvnw.net/previews-ttv/live_user_domingo-{width}x{height}.jpg\",\"tag_ids\":[],\"tags\":[\"Français\"],\"is_mature\":false},{\"id\":\"50441124061\",\"user_id\":\"39154501\",\"user_login\":\"des0ut\",\"user_name\":\"des0ut\",\"game_id\":\"493057\",\"game_name\":\"PUBG: BATTLEGROUNDS\",\"type\":\"live\",\"title\":\"🔴pubg w/ @evelone2004 @skywhywalker @Dmitry_Lixxx !betboom !tg\",\"viewer_count\":6959,\"started_at\":\"2024-02-19T20:45:55Z\",\"language\":\"ru\",\"thumbnail_url\":\"https://static-cdn.jtvnw.net/previews-ttv/live_user_des0ut-{width}x{height}.jpg\",\"tag_ids\":[],\"tags\":[\"Русский\",\"киберспорт\",\"умом\"],\"is_mature\":false},{\"id\":\"41908827688\",\"user_id\":\"75891532\",\"user_login\":\"michel\",\"user_name\":\"Michel\",\"game_id\":\"516575\",\"game_name\":\"VALORANT\",\"type\":\"live\",\"title\":\"LIVE: FURIA (0) vs (1) MIBR - VCT Americas Kickoff\",\"viewer_count\":6790,\"started_at\":\"2024-02-19T21:20:11Z\",\"language\":\"pt\",\"thumbnail_url\":\"https://static-cdn.jtvnw.net/previews-ttv/live_user_michel-{width}x{height}.jpg\",\"tag_ids\":[],\"tags\":[\"Português\",\"Imperial\",\"FURIA\",\"LOUD\",\"Tribo\",\"CSGO\",\"MIBR\",\"Fluxo\",\"paiN\",\"VALORANT\"],\"is_mature\":false},{\"id\":\"41908372888\",\"user_id\":\"53065331\",\"user_login\":\"dariomocciatwitch\",\"user_name\":\"DarioMocciaTwitch\",\"game_id\":\"95777581\",\"game_name\":\"Prince of Persia: The Lost Crown\",\"type\":\"live\",\"title\":\"Vedremo il finale? !artbook !palinsesto !prime !pc\",\"viewer_count\":6783,\"started_at\":\"2024-02-19T20:00:15Z\",\"language\":\"it\",\"thumbnail_url\":\"https://static-cdn.jtvnw.net/previews-ttv/live_user_dariomocciatwitch-{width}x{height}.jpg\",\"tag_ids\":[],\"tags\":[\"Italiano\"],\"is_mature\":false},{\"id\":\"50438654877\",\"user_id\":\"120244187\",\"user_login\":\"aydan\",\"user_name\":\"Aydan\",\"game_id\":\"512710\",\"game_name\":\"Call of Duty: Warzone\",\"type\":\"live\",\"title\":\"!Rank #1 Grind (Currently Rank #2) | !loadout !monster\",\"viewer_count\":6714,\"started_at\":\"2024-02-19T14:52:29Z\",\"language\":\"en\",\"thumbnail_url\":\"https://static-cdn.jtvnw.net/previews-ttv/live_user_aydan-{width}x{height}.jpg\",\"tag_ids\":[],\"tags\":[\"English\"],\"is_mature\":true},{\"id\":\"40468056373\",\"user_id\":\"173066877\",\"user_login\":\"bichouu_\",\"user_name\":\"Bichouu_\",\"game_id\":\"32982\",\"game_name\":\"Grand Theft Auto V\",\"type\":\"live\",\"title\":\"LE BIG RETOUR DU BIG BICHOU\",\"viewer_count\":6709,\"started_at\":\"2024-02-19T21:55:59Z\",\"language\":\"fr\",\"thumbnail_url\":\"https://static-cdn.jtvnw.net/previews-ttv/live_user_bichouu_-{width}x{height}.jpg\",\"tag_ids\":[],\"tags\":[\"Français\"],\"is_mature\":true},{\"id\":\"43652884635\",\"user_id\":\"128440061\",\"user_login\":\"zentreya\",\"user_name\":\"Zentreya\",\"game_id\":\"766571430\",\"game_name\":\"HELLDIVERS 2\",\"type\":\"live\",\"title\":\"NEW OUTFIT / UPDATES + SQUASHING BUGS W/ @EVILTOASTER @HEAVENLYFATHER @RUBENSARGASM | !bits !tts !merch !advgg !luwud !smite | #VSHOJO\",\"viewer_count\":6366,\"started_at\":\"2024-02-19T16:42:37Z\",\"language\":\"en\",\"thumbnail_url\":\"https://static-cdn.jtvnw.net/previews-ttv/live_user_zentreya-{width}x{height}.jpg\",\"tag_ids\":[],\"tags\":[\"vtuber\",\"subtitles\",\"anime\",\"gamer\",\"adhd\",\"Vshojo\",\"based\",\"GoodMusicTaste\",\"English\"],\"is_mature\":false},{\"id\":\"41906382440\",\"user_id\":\"26921830\",\"user_login\":\"elajjaz\",\"user_name\":\"Elajjaz\",\"game_id\":\"323323854\",\"game_name\":\"Fossilfuel 2\",\"type\":\"live\",\"title\":\"New Dinosaur horror game! - Fossil Fuel | Final event 3rd of March !SwedishClassic\",\"viewer_count\":6338,\"started_at\":\"2024-02-19T14:02:04Z\",\"language\":\"en\",\"thumbnail_url\":\"https://static-cdn.jtvnw.net/previews-ttv/live_user_elajjaz-{width}x{height}.jpg\",\"tag_ids\":[],\"tags\":[\"English\"],\"is_mature\":false},{\"id\":\"50440133373\",\"user_id\":\"43548655\",\"user_login\":\"tanzverbot\",\"user_name\":\"TANZVERBOT\",\"game_id\":\"509658\",\"game_name\":\"Just Chatting\",\"type\":\"live\",\"title\":\"Wohnmobil Tour - Hoffentlich funktioniert jetzt alles...\",\"viewer_count\":6322,\"started_at\":\"2024-02-19T18:06:58Z\",\"language\":\"de\",\"thumbnail_url\":\"https://static-cdn.jtvnw.net/previews-ttv/live_user_tanzverbot-{width}x{height}.jpg\",\"tag_ids\":[],\"tags\":[\"Deutsch\",\"reaction\",\"berlin\",\"tanzverbot\",\"Messe\"],\"is_mature\":false},{\"id\":\"43653089691\",\"user_id\":\"24991333\",\"user_login\":\"imaqtpie\",\"user_name\":\"imaqtpie\",\"game_id\":\"21779\",\"game_name\":\"League of Legends\",\"type\":\"live\",\"title\":\"getting masters back lol some unlucky games but all good climbing back up\",\"viewer_count\":6300,\"started_at\":\"2024-02-19T18:07:01Z\",\"language\":\"en\",\"thumbnail_url\":\"https://static-cdn.jtvnw.net/previews-ttv/live_user_imaqtpie-{width}x{height}.jpg\",\"tag_ids\":[],\"tags\":[\"English\"],\"is_mature\":false},{\"id\":\"50440129085\",\"user_id\":\"100901794\",\"user_login\":\"shylily\",\"user_name\":\"Shylily\",\"game_id\":\"209738946\",\"game_name\":\"Wuthering Waves\",\"type\":\"live\",\"title\":\"🦐WUTHERING WAVES TONIGHT! LETS GOOO!! OUR LATEST LIMITED TIME !GG Merch available for a few more Days! !waves #wutheringwaves #ad\",\"viewer_count\":6300,\"started_at\":\"2024-02-19T18:06:45Z\",\"language\":\"en\",\"thumbnail_url\":\"https://static-cdn.jtvnw.net/previews-ttv/live_user_shylily-{width}x{height}.jpg\",\"tag_ids\":[],\"tags\":[\"AAAAAAAAAAAAAAAAAAAAAAAAA\",\"Vtuber\",\"Anime\",\"VisualASMR\",\"ASMR\",\"FirstPlaythrough\",\"English\",\"NoBackseating\"],\"is_mature\":true},{\"id\":\"50441773949\",\"user_id\":\"272748387\",\"user_login\":\"asianjeff\",\"user_name\":\"AsianJeff\",\"game_id\":\"33214\",\"game_name\":\"Fortnite\",\"type\":\"live\",\"title\":\"PRO DUO SCRIMS W/ @OliverOG --\\u003e MIX-UP MONDAY AT 8PM EST  | 🎉QUALED FOR FNCS GRAND FINALS🎉| 🚨NEW 1V1 MAP 4544-3374-0559🚨 | !discord\",\"viewer_count\":6257,\"started_at\":\"2024-02-19T22:03:26Z\",\"language\":\"en\",\"thumbnail_url\":\"https://static-cdn.jtvnw.net/previews-ttv/live_user_asianjeff-{width}x{height}.jpg\",\"tag_ids\":[],\"tags\":[\"English\"],\"is_mature\":true},{\"id\":\"50440039021\",\"user_id\":\"41875213\",\"user_login\":\"grendy\",\"user_name\":\"Grendy\",\"game_id\":\"32982\",\"game_name\":\"Grand Theft Auto V\",\"type\":\"live\",\"title\":\"KONWÓJ KSIĘDZA - POGRZEB MUĆKA - PRZYJĘCIE DO BANDY - 5City\",\"viewer_count\":6073,\"started_at\":\"2024-02-19T18:01:22Z\",\"language\":\"pl\",\"thumbnail_url\":\"https://static-cdn.jtvnw.net/previews-ttv/live_user_grendy-{width}x{height}.jpg\",\"tag_ids\":[],\"tags\":[\"Polski\",\"aktorstwogłosowe\",\"CoCoRP\",\"GTAvRP\",\"grendy\",\"Grendy\",\"odgrywanieról\",\"odgrywanieroli\",\"Turniej\",\"5city\"],\"is_mature\":false},{\"id\":\"43653122363\",\"user_id\":\"61812950\",\"user_login\":\"otzdarva\",\"user_name\":\"Otzdarva\",\"game_id\":\"491487\",\"game_name\":\"Dead by Daylight\",\"type\":\"live\",\"title\":\"Coming Tomorrow: New Killer + Huntress with 10 hatchets \\u0026 more, on the PTB | !faq !displate !specs\",\"viewer_count\":5778,\"started_at\":\"2024-02-19T18:13:11Z\",\"language\":\"en\",\"thumbnail_url\":\"https://static-cdn.jtvnw.net/previews-ttv/live_user_otzdarva-{width}x{height}.jpg\",\"tag_ids\":[],\"tags\":[\"English\"],\"is_mature\":false},{\"id\":\"42328256217\",\"user_id\":\"132106826\",\"user_login\":\"rainbow6br\",\"user_name\":\"Rainbow6BR\",\"game_id\":\"460630\",\"game_name\":\"Tom Clancy's Rainbow Six Siege\",\"type\":\"live\",\"title\":\"SIX INVITATIONAL 2024 - PLAYOFFS - DIA 1 - STREAM A\",\"viewer_count\":5745,\"started_at\":\"2024-02-19T12:20:01Z\",\"language\":\"pt\",\"thumbnail_url\":\"https://static-cdn.jtvnw.net/previews-ttv/live_user_rainbow6br-{width}x{height}.jpg\",\"tag_ids\":[],\"tags\":[\"Esports\",\"Português\",\"DropsAtivados\"],\"is_mature\":false},{\"id\":\"41907211512\",\"user_id\":\"152633332\",\"user_login\":\"knekro\",\"user_name\":\"knekro\",\"game_id\":\"209738946\",\"game_name\":\"Wuthering Waves\",\"type\":\"live\",\"title\":\"ESTAMOS DE VUELTA | FIN DE SEMANA HISTORICO | Wuthering Waves de chill | !eneba !discord\",\"viewer_count\":5645,\"started_at\":\"2024-02-19T16:20:38Z\",\"language\":\"es\",\"thumbnail_url\":\"https://static-cdn.jtvnw.net/previews-ttv/live_user_knekro-{width}x{height}.jpg\",\"tag_ids\":[],\"tags\":[\"Español\",\"Knekrer\",\"variety\",\"Elmejor\",\"CHALLENGER\",\"Rarete\"],\"is_mature\":false},{\"id\":\"40466070965\",\"user_id\":\"30623831\",\"user_login\":\"quickybaby\",\"user_name\":\"QuickyBaby\",\"game_id\":\"27546\",\"game_name\":\"World of Tanks\",\"type\":\"live\",\"title\":\"🔥*NEW* !DROPS🔥GET EPIC STYLES/PREMIUM TANKS FOR FREE | 40 x UNLOCKED !PollTanks @19:00 | !Prime | Day 1/2\",\"viewer_count\":5538,\"started_at\":\"2024-02-19T11:43:51Z\",\"language\":\"en\",\"thumbnail_url\":\"https://static-cdn.jtvnw.net/previews-ttv/live_user_quickybaby-{width}x{height}.jpg\",\"tag_ids\":[],\"tags\":[\"English\",\"EU\",\"Drop\",\"drops\",\"DropsEnabled\"],\"is_mature\":false},{\"id\":\"42328270441\",\"user_id\":\"246244003\",\"user_login\":\"rainbow6bravo\",\"user_name\":\"Rainbow6Bravo\",\"game_id\":\"460630\",\"game_name\":\"Tom Clancy's Rainbow Six Siege\",\"type\":\"live\",\"title\":\"Six Invitational 2024 - Playoffs Day 1 - Virtus.Pro vs Ninjas in Pyjamas\",\"viewer_count\":5530,\"started_at\":\"2024-02-19T12:30:30Z\",\"language\":\"en\",\"thumbnail_url\":\"https://static-cdn.jtvnw.net/previews-ttv/live_user_rainbow6bravo-{width}x{height}.jpg\",\"tag_ids\":[],\"tags\":[\"Esports\",\"R6S\",\"RainbowSixSiege\",\"Ubisoft\",\"English\",\"DropsEnabled\"],\"is_mature\":true},{\"id\":\"50441542301\",\"user_id\":\"246450563\",\"user_login\":\"stableronaldo\",\"user_name\":\"stableronaldo\",\"game_id\":\"509658\",\"game_name\":\"Just Chatting\",\"type\":\"live\",\"title\":\"10 hour today [insta/twitter @stableronaldo]\",\"viewer_count\":5380,\"started_at\":\"2024-02-19T21:35:11Z\",\"language\":\"en\",\"thumbnail_url\":\"https://static-cdn.jtvnw.net/previews-ttv/live_user_stableronaldo-{width}x{height}.jpg\",\"tag_ids\":[],\"tags\":[\"English\"],\"is_mature\":false},{\"id\":\"42539181614\",\"user_id\":\"60672785\",\"user_login\":\"robinsongz\",\"user_name\":\"robinsongz\",\"game_id\":\"513143\",\"game_name\":\"Teamfight Tactics\",\"type\":\"live\",\"title\":\"RANK 6 NA 1531 LP START REGIONAL PREP STARTS NOW!!!!!!!!!!!! !handbook\",\"viewer_count\":5166,\"started_at\":\"2024-02-19T18:20:54Z\",\"language\":\"en\",\"thumbnail_url\":\"https://static-cdn.jtvnw.net/previews-ttv/live_user_robinsongz-{width}x{height}.jpg\",\"tag_ids\":[],\"tags\":[\"young\",\"actuallyold\",\"English\"],\"is_mature\":false},{\"id\":\"41079898487\",\"user_id\":\"598495509\",\"user_login\":\"akamikarubi\",\"user_name\":\"赤見かるび\",\"game_id\":\"21779\",\"game_name\":\"League of Legends\",\"type\":\"live\",\"title\":\"こっそりLOL ミッドしてみたい\",\"viewer_count\":5138,\"started_at\":\"2024-02-19T21:13:16Z\",\"language\":\"ja\",\"thumbnail_url\":\"https://static-cdn.jtvnw.net/previews-ttv/live_user_akamikarubi-{width}x{height}.jpg\",\"tag_ids\":[],\"tags\":[\"日本語\"],\"is_mature\":false},{\"id\":\"40466275381\",\"user_id\":\"121329766\",\"user_login\":\"neexcsgo\",\"user_name\":\"NEEXcsgo\",\"game_id\":\"509658\",\"game_name\":\"Just Chatting\",\"type\":\"live\",\"title\":\"TOP1 WSCHODZĄCA GWIAZDA NA TIKTOK/ POTEM CS !steelseries !superbet !yt\",\"viewer_count\":5116,\"started_at\":\"2024-02-19T12:36:16Z\",\"language\":\"pl\",\"thumbnail_url\":\"https://static-cdn.jtvnw.net/previews-ttv/live_user_neexcsgo-{width}x{height}.jpg\",\"tag_ids\":[],\"tags\":[\"Polski\",\"csgo\",\"CS2\"],\"is_mature\":false},{\"id\":\"50442091229\",\"user_id\":\"35958947\",\"user_login\":\"squeex\",\"user_name\":\"Squeex\",\"game_id\":\"509658\",\"game_name\":\"Just Chatting\",\"type\":\"live\",\"title\":\"addressing the drama 😂 STREAMER AWARDS RECAP 😂 WHO KNOWS WHAT WILL HAPPEN 😂 !YouTube\",\"viewer_count\":5083,\"started_at\":\"2024-02-19T22:39:24Z\",\"language\":\"en\",\"thumbnail_url\":\"https://static-cdn.jtvnw.net/previews-ttv/live_user_squeex-{width}x{height}.jpg\",\"tag_ids\":[],\"tags\":[\"evil\",\"unemployed\",\"English\"],\"is_mature\":false},{\"id\":\"41908767864\",\"user_id\":\"790173918\",\"user_login\":\"cameliaaa92\",\"user_name\":\"cameliaaa92\",\"game_id\":\"32982\",\"game_name\":\"Grand Theft Auto V\",\"type\":\"live\",\"title\":\"FLASHLAND WL | Kiara En Ville ~ !cmds\",\"viewer_count\":5055,\"started_at\":\"2024-02-19T21:09:06Z\",\"language\":\"fr\",\"thumbnail_url\":\"https://static-cdn.jtvnw.net/previews-ttv/live_user_cameliaaa92-{width}x{height}.jpg\",\"tag_ids\":[],\"tags\":[\"Français\"],\"is_mature\":false},{\"id\":\"43655153163\",\"user_id\":\"494543675\",\"user_login\":\"lacy\",\"user_name\":\"Lacy\",\"game_id\":\"33214\",\"game_name\":\"Fortnite\",\"type\":\"live\",\"title\":\"its time for a change. | !ModCamp\",\"viewer_count\":5044,\"started_at\":\"2024-02-19T22:09:28Z\",\"language\":\"en\",\"thumbnail_url\":\"https://static-cdn.jtvnw.net/previews-ttv/live_user_lacy-{width}x{height}.jpg\",\"tag_ids\":[],\"tags\":[\"English\"],\"is_mature\":false},{\"id\":\"42329420537\",\"user_id\":\"1039372233\",\"user_login\":\"frg_ffs\",\"user_name\":\"FRG_FFS\",\"game_id\":\"493887283\",\"game_name\":\"Casino\",\"type\":\"live\",\"title\":\"БОНУСКИ В НОВОМ КАЗЕ | 1GO\",\"viewer_count\":5038,\"started_at\":\"2024-02-19T20:02:36Z\",\"language\":\"ru\",\"thumbnail_url\":\"https://static-cdn.jtvnw.net/previews-ttv/live_user_frg_ffs-{width}x{height}.jpg\",\"tag_ids\":[],\"tags\":[\"Русский\"],\"is_mature\":false},{\"id\":\"50441927709\",\"user_id\":\"569342750\",\"user_login\":\"badboyhalo\",\"user_name\":\"BadBoyHalo\",\"game_id\":\"27471\",\"game_name\":\"Minecraft\",\"type\":\"live\",\"title\":\"QSMP - Absence\",\"viewer_count\":4996,\"started_at\":\"2024-02-19T22:20:04Z\",\"language\":\"en\",\"thumbnail_url\":\"https://static-cdn.jtvnw.net/previews-ttv/live_user_badboyhalo-{width}x{height}.jpg\",\"tag_ids\":[],\"tags\":[\"English\",\"qsmp\",\"Captions\",\"minecraft\"],\"is_mature\":false},{\"id\":\"50441437229\",\"user_id\":\"9528182\",\"user_login\":\"chilledchaos\",\"user_name\":\"ChilledChaos\",\"game_id\":\"18846\",\"game_name\":\"Garry's Mod\",\"type\":\"live\",\"title\":\"PROPHUNT IS BACK! (Garry's Mod) | Mario Kart After!\",\"viewer_count\":4972,\"started_at\":\"2024-02-19T21:23:19Z\",\"language\":\"en\",\"thumbnail_url\":\"https://static-cdn.jtvnw.net/previews-ttv/live_user_chilledchaos-{width}x{height}.jpg\",\"tag_ids\":[],\"tags\":[\"LyingEncouraged\",\"yugioh\",\"SocialDeception\",\"AmongUS\",\"SociallyAwkward\",\"ChilledChaos\",\"ItalianSafeSpace\",\"English\"],\"is_mature\":false},{\"id\":\"40467237141\",\"user_id\":\"38121996\",\"user_login\":\"bastighg\",\"user_name\":\"BastiGHG\",\"game_id\":\"27471\",\"game_name\":\"Minecraft\",\"type\":\"live\",\"title\":\"LATENIGHT HG MIT BASTIGHG🔹\",\"viewer_count\":4902,\"started_at\":\"2024-02-19T17:41:08Z\",\"language\":\"de\",\"thumbnail_url\":\"https://static-cdn.jtvnw.net/previews-ttv/live_user_bastighg-{width}x{height}.jpg\",\"tag_ids\":[],\"tags\":[\"GHG\",\"Deutsch\"],\"is_mature\":false},{\"id\":\"42539232926\",\"user_id\":\"143776262\",\"user_login\":\"keznit1\",\"user_name\":\"keznit1\",\"game_id\":\"516575\",\"game_name\":\"VALORANT\",\"type\":\"live\",\"title\":\"Día 4 — VCT Americas Kickoff — Fase de  / !sorteo !codigofn !exopik !partido !team !hora !ds !tiktok !redes !donate !playlist SANTIX100PRE❤️\",\"viewer_count\":4870,\"started_at\":\"2024-02-19T19:56:58Z\",\"language\":\"es\",\"thumbnail_url\":\"https://static-cdn.jtvnw.net/previews-ttv/live_user_keznit1-{width}x{height}.jpg\",\"tag_ids\":[],\"tags\":[\"Español\"],\"is_mature\":false},{\"id\":\"41906600072\",\"user_id\":\"73437396\",\"user_login\":\"bonjwa\",\"user_name\":\"Bonjwa\",\"game_id\":\"1952699919\",\"game_name\":\"Deep Rock Galactic: Survivor\",\"type\":\"live\",\"title\":\"Die Großmeister-Challenge mit Matteo\",\"viewer_count\":4793,\"started_at\":\"2024-02-19T14:46:10Z\",\"language\":\"de\",\"thumbnail_url\":\"https://static-cdn.jtvnw.net/previews-ttv/live_user_bonjwa-{width}x{height}.jpg\",\"tag_ids\":[],\"tags\":[\"Deutsch\",\"Matteo\",\"Leon\",\"Redpanda\",\"Honor\",\"Niklas\",\"Maurice\",\"hamu\"],\"is_mature\":false},{\"id\":\"40465810165\",\"user_id\":\"50795214\",\"user_login\":\"sardoche\",\"user_name\":\"Sardoche\",\"game_id\":\"21779\",\"game_name\":\"League of Legends\",\"type\":\"live\",\"title\":\"La theorie de l'emo - Jour 1\",\"viewer_count\":4788,\"started_at\":\"2024-02-19T10:22:09Z\",\"language\":\"fr\",\"thumbnail_url\":\"https://static-cdn.jtvnw.net/previews-ttv/live_user_sardoche-{width}x{height}.jpg\",\"tag_ids\":[],\"tags\":[\"Français\",\"Speedrun\",\"ModeDifficile\",\"Boxing\"],\"is_mature\":false},{\"id\":\"40465183093\",\"user_id\":\"40784764\",\"user_login\":\"shlorox\",\"user_name\":\"Shlorox\",\"game_id\":\"509658\",\"game_name\":\"Just Chatting\",\"type\":\"live\",\"title\":\"24h+ Subathon\",\"viewer_count\":4768,\"started_at\":\"2024-02-19T02:44:44Z\",\"language\":\"de\",\"thumbnail_url\":\"https://static-cdn.jtvnw.net/previews-ttv/live_user_shlorox-{width}x{height}.jpg\",\"tag_ids\":[],\"tags\":[\"Deutsch\"],\"is_mature\":false},{\"id\":\"50442051117\",\"user_id\":\"143726713\",\"user_login\":\"sweetdreams\",\"user_name\":\"sweetdreams\",\"game_id\":\"511224\",\"game_name\":\"Apex Legends\",\"type\":\"live\",\"title\":\"Season 20 Scrims with LG. ALGS on 3/3\",\"viewer_count\":4729,\"started_at\":\"2024-02-19T22:34:57Z\",\"language\":\"en\",\"thumbnail_url\":\"https://static-cdn.jtvnw.net/previews-ttv/live_user_sweetdreams-{width}x{height}.jpg\",\"tag_ids\":[],\"tags\":[\"English\",\"GoingInsane\",\"Help\",\"mentallyunstable\",\"DropsEnabled\"],\"is_mature\":false},{\"id\":\"43654235019\",\"user_id\":\"40541068\",\"user_login\":\"methodz\",\"user_name\":\"Methodz\",\"game_id\":\"1337444628\",\"game_name\":\"Call of Duty: Modern Warfare III\",\"type\":\"live\",\"title\":\"[15-1] TOP 150 RANKED\",\"viewer_count\":4437,\"started_at\":\"2024-02-19T19:55:32Z\",\"language\":\"en\",\"thumbnail_url\":\"https://static-cdn.jtvnw.net/previews-ttv/live_user_methodz-{width}x{height}.jpg\",\"tag_ids\":[],\"tags\":[\"cdl\",\"cod\",\"OpTic\",\"methodz\",\"English\"],\"is_mature\":false},{\"id\":\"50440169229\",\"user_id\":\"138094916\",\"user_login\":\"sinatraa\",\"user_name\":\"sinatraa\",\"game_id\":\"516575\",\"game_name\":\"VALORANT\",\"type\":\"live\",\"title\":\"FURIA vs MIBR\",\"viewer_count\":4406,\"started_at\":\"2024-02-19T18:09:33Z\",\"language\":\"en\",\"thumbnail_url\":\"https://static-cdn.jtvnw.net/previews-ttv/live_user_sinatraa-{width}x{height}.jpg\",\"tag_ids\":[],\"tags\":[\"English\"],\"is_mature\":false}],\"pagination\":{\"cursor\":\"eyJiIjp7IkN1cnNvciI6ImV5SnpJam8wT0RBM01TNHhNelkzTnpNM01UVTVPU3dpWkNJNlptRnNjMlVzSW5RaU9uUnlkV1Y5In0sImEiOnsiQ3Vyc29yIjoiZXlKeklqbzBOamswTGpNeE16UXpPREk1T0RBNE15d2laQ0k2Wm1Gc2MyVXNJblFpT25SeWRXVjkifX0\"}}\n",
      "{'data': [{'id': '41908496216', 'user_id': '90075649', 'user_login': 'illojuan', 'user_name': 'IlloJuan', 'game_id': '509658', 'game_name': 'Just Chatting', 'type': 'live', 'title': 'EL CABRÓN 🐐 GRACIAS ❤️', 'viewer_count': 48071, 'started_at': '2024-02-19T20:22:35Z', 'language': 'es', 'thumbnail_url': 'https://static-cdn.jtvnw.net/previews-ttv/live_user_illojuan-{width}x{height}.jpg', 'tag_ids': [], 'tags': ['Español'], 'is_mature': False}, {'id': '42328762985', 'user_id': '65171890', 'user_login': 'rainbow6', 'user_name': 'Rainbow6', 'game_id': '460630', 'game_name': \"Tom Clancy's Rainbow Six Siege\", 'type': 'live', 'title': 'Six Invitational 2024 - Playoffs Day 1 - Spacestation Gaming vs DarkZero Esports', 'viewer_count': 42103, 'started_at': '2024-02-19T15:58:23Z', 'language': 'en', 'thumbnail_url': 'https://static-cdn.jtvnw.net/previews-ttv/live_user_rainbow6-{width}x{height}.jpg', 'tag_ids': [], 'tags': ['English', 'Esports', 'ubisoft', 'R6S', 'rainbowsixsiege', 'DropsEnabled'], 'is_mature': True}, {'id': '42328153705', 'user_id': '181077473', 'user_login': 'gaules', 'user_name': 'Gaules', 'game_id': '32399', 'game_name': 'Counter-Strike', 'type': 'live', 'title': 'O Plano vs SALAO DO CORTE IEM Dallas 2024 South America Open Qualifier 2  - Siga @Gaules nas redes sociais.', 'viewer_count': 36384, 'started_at': '2024-02-19T10:37:16Z', 'language': 'pt', 'thumbnail_url': 'https://static-cdn.jtvnw.net/previews-ttv/live_user_gaules-{width}x{height}.jpg', 'tag_ids': [], 'tags': ['Português', 'fps', 'brasil', 'brazil', 'Portugues', 'counterstrike', 'cs'], 'is_mature': True}, {'id': '43655036843', 'user_id': '36340781', 'user_login': 'tarik', 'user_name': 'tarik', 'game_id': '516575', 'game_name': 'VALORANT', 'type': 'live', 'title': 'MIBR vs FURIA - VCT 2024: Americas Kickoff - Twitter @tarik', 'viewer_count': 35292, 'started_at': '2024-02-19T21:51:31Z', 'language': 'en', 'thumbnail_url': 'https://static-cdn.jtvnw.net/previews-ttv/live_user_tarik-{width}x{height}.jpg', 'tag_ids': [], 'tags': ['English'], 'is_mature': False}, {'id': '50441180477', 'user_id': '94753024', 'user_login': 'mizkif', 'user_name': 'Mizkif', 'game_id': '509658', 'game_name': 'Just Chatting', 'type': 'live', 'title': 'GOING TO COMPETTING GYMS TO BRING IN NEW CUSTOMERS', 'viewer_count': 29354, 'started_at': '2024-02-19T20:53:08Z', 'language': 'en', 'thumbnail_url': 'https://static-cdn.jtvnw.net/previews-ttv/live_user_mizkif-{width}x{height}.jpg', 'tag_ids': [], 'tags': ['ADHD', 'Osteoporosis', 'OTK', 'STARFORGE', 'STEROIDS', 'Vtuber', 'English', 'rplace'], 'is_mature': False}, {'id': '41908829688', 'user_id': '52130765', 'user_login': 'squeezie', 'user_name': 'Squeezie', 'game_id': '940188387', 'game_name': 'The Classrooms', 'type': 'live', 'title': \"on joue à des jeux d'horreur ça fait lgtmps\", 'viewer_count': 28049, 'started_at': '2024-02-19T21:20:27Z', 'language': 'fr', 'thumbnail_url': 'https://static-cdn.jtvnw.net/previews-ttv/live_user_squeezie-{width}x{height}.jpg', 'tag_ids': [], 'tags': ['Français'], 'is_mature': False}, {'id': '41908401192', 'user_id': '77827128', 'user_login': 'tumblurr', 'user_name': 'Tumblurr', 'game_id': '509658', 'game_name': 'Just Chatting', 'type': 'live', 'title': 'KING IS ALIVE MEGA DRAMA ALERT | !vpn', 'viewer_count': 25913, 'started_at': '2024-02-19T20:06:20Z', 'language': 'it', 'thumbnail_url': 'https://static-cdn.jtvnw.net/previews-ttv/live_user_tumblurr-{width}x{height}.jpg', 'tag_ids': [], 'tags': ['Italiano'], 'is_mature': False}, {'id': '50441244317', 'user_id': '552120296', 'user_login': 'zackrawrr', 'user_name': 'zackrawrr', 'game_id': '509658', 'game_name': 'Just Chatting', 'type': 'live', 'title': 'BIG DAY--NEWS/REACTS/GAMES--WUTHERING   WAVES CBT--MORE HELLDIVERS 2?!@StarforgeSystems @MadMushroomGG @MythicTalent', 'viewer_count': 25537, 'started_at': '2024-02-19T21:01:08Z', 'language': 'en', 'thumbnail_url': 'https://static-cdn.jtvnw.net/previews-ttv/live_user_zackrawrr-{width}x{height}.jpg', 'tag_ids': [], 'tags': ['English', 'OTK', 'otknetwork', 'StarForgePCs', 'wow', 'bald', 'gaming', 'worldofwarcraft'], 'is_mature': False}, {'id': '43654942683', 'user_id': '598903130', 'user_login': 'valorant_americas', 'user_name': 'VALORANT_Americas', 'game_id': '516575', 'game_name': 'VALORANT', 'type': 'live', 'title': 'Americas Kickoff - Group Stage Day 4', 'viewer_count': 24661, 'started_at': '2024-02-19T21:31:11Z', 'language': 'en', 'thumbnail_url': 'https://static-cdn.jtvnw.net/previews-ttv/live_user_valorant_americas-{width}x{height}.jpg', 'tag_ids': [], 'tags': ['Esports', 'English'], 'is_mature': False}, {'id': '43653906155', 'user_id': '207813352', 'user_login': 'hasanabi', 'user_name': 'HasanAbi', 'game_id': '509658', 'game_name': 'Just Chatting', 'type': 'live', 'title': '🚨MONDAY NEWSDAY🚨GENZ CORRESPONDENT @SEANDABLACK 🚨DURAG STREAM 🚨 - !guest', 'viewer_count': 23834, 'started_at': '2024-02-19T19:25:06Z', 'language': 'en', 'thumbnail_url': 'https://static-cdn.jtvnw.net/previews-ttv/live_user_hasanabi-{width}x{height}.jpg', 'tag_ids': [], 'tags': ['news', 'politics', 'adhd', 'English'], 'is_mature': False}, {'id': '50442261277', 'user_id': '531177917', 'user_login': 'paulinholokobr', 'user_name': 'PaulinhoLOKObr', 'game_id': '32982', 'game_name': 'Grand Theft Auto V', 'type': 'live', 'title': 'MISSÃO no GTA HOJE!🔥PAULINHO O LOKO no GTA RP +18', 'viewer_count': 19385, 'started_at': '2024-02-19T23:00:56Z', 'language': 'pt', 'thumbnail_url': 'https://static-cdn.jtvnw.net/previews-ttv/live_user_paulinholokobr-{width}x{height}.jpg', 'tag_ids': [], 'tags': ['Português'], 'is_mature': False}, {'id': '43653414123', 'user_id': '51496027', 'user_login': 'loltyler1', 'user_name': 'loltyler1', 'game_id': '21779', 'game_name': 'League of Legends', 'type': 'live', 'title': 'GET started HERE . FREEDOM WOOT WOOT ! great feel way lol tackle OBJECT AHEAD ! BOOOOOM ! massive HITTER WITH CLIMBED PURPOSE ! golly gee !!', 'viewer_count': 19358, 'started_at': '2024-02-19T18:43:52Z', 'language': 'en', 'thumbnail_url': 'https://static-cdn.jtvnw.net/previews-ttv/live_user_loltyler1-{width}x{height}.jpg', 'tag_ids': [], 'tags': ['English'], 'is_mature': False}, {'id': '43654345003', 'user_id': '163836275', 'user_login': 'lord_kebun', 'user_name': 'Lord_Kebun', 'game_id': '32982', 'game_name': 'Grand Theft Auto V', 'type': 'live', 'title': 'MR. K CRIMINAL MASTERMIND 🚨 NoPixel 4.0 🚨', 'viewer_count': 19162, 'started_at': '2024-02-19T20:02:27Z', 'language': 'en', 'thumbnail_url': 'https://static-cdn.jtvnw.net/previews-ttv/live_user_lord_kebun-{width}x{height}.jpg', 'tag_ids': [], 'tags': ['English'], 'is_mature': False}, {'id': '41908382056', 'user_id': '109492660', 'user_login': 'reborn', 'user_name': 'Reborn', 'game_id': '32982', 'game_name': 'Grand Theft Auto V', 'type': 'live', 'title': 'SPAINRP | SUPERINTENDENTE CONWAY +18', 'viewer_count': 19149, 'started_at': '2024-02-19T20:02:39Z', 'language': 'es', 'thumbnail_url': 'https://static-cdn.jtvnw.net/previews-ttv/live_user_reborn-{width}x{height}.jpg', 'tag_ids': [], 'tags': ['Español', 'Reborn', 'rebornlive'], 'is_mature': False}, {'id': '43654500427', 'user_id': '59799994', 'user_login': 'gabepeixe', 'user_name': 'gabepeixe', 'game_id': '502732', 'game_name': 'Garena Free Fire', 'type': 'live', 'title': 'FINAL DA NOISE MFL!', 'viewer_count': 19108, 'started_at': '2024-02-19T20:19:29Z', 'language': 'pt', 'thumbnail_url': 'https://static-cdn.jtvnw.net/previews-ttv/live_user_gabepeixe-{width}x{height}.jpg', 'tag_ids': [], 'tags': ['Português', 'Minecraft', 'Gabepeixe', 'Gabe', 'GTAⅤ', 'Freeefire'], 'is_mature': False}, {'id': '50439405645', 'user_id': '12875057', 'user_login': 'gronkh', 'user_name': 'GRONKH', 'game_id': '737987407', 'game_name': 'Enshrouded', 'type': 'live', 'title': 'YO BRATIK! @TOBINATORLP & @GRONKH RETTEN DIE WELT ⭐ #Enshrouded ⭐ oder 24/7 auf @GRONKHTV ⭐ !comic !archiv !shop', 'viewer_count': 18232, 'started_at': '2024-02-19T17:09:05Z', 'language': 'de', 'thumbnail_url': 'https://static-cdn.jtvnw.net/previews-ttv/live_user_gronkh-{width}x{height}.jpg', 'tag_ids': [], 'tags': ['TollerStream', 'SoEinTollerStream', 'EinfachNurToll', 'Wirklich', 'Deutsch', 'toll', 'Banishers'], 'is_mature': True}, {'id': '50439375917', 'user_id': '23161357', 'user_login': 'lirik', 'user_name': 'LIRIK', 'game_id': '1952699919', 'game_name': 'Deep Rock Galactic: Survivor', 'type': 'live', 'title': 'Chillin', 'viewer_count': 17941, 'started_at': '2024-02-19T17:06:18Z', 'language': 'en', 'thumbnail_url': 'https://static-cdn.jtvnw.net/previews-ttv/live_user_lirik-{width}x{height}.jpg', 'tag_ids': [], 'tags': ['English'], 'is_mature': False}, {'id': '42329775977', 'user_id': '198633200', 'user_login': 'filian', 'user_name': 'filian', 'game_id': '509658', 'game_name': 'Just Chatting', 'type': 'live', 'title': '🔥 FILIAN X DOKIBIRD HOT ONES 🔥', 'viewer_count': 16677, 'started_at': '2024-02-19T22:05:20Z', 'language': 'en', 'thumbnail_url': 'https://static-cdn.jtvnw.net/previews-ttv/live_user_filian-{width}x{height}.jpg', 'tag_ids': [], 'tags': ['ENVtuber', 'English'], 'is_mature': False}, {'id': '40467585125', 'user_id': '155601320', 'user_login': 'jltomy', 'user_name': 'JLTomy', 'game_id': '32982', 'game_name': 'Grand Theft Auto V', 'type': 'live', 'title': 'Sergent-Chef 113 : Bras armé de la justice, cauchemar des criminels !', 'viewer_count': 16644, 'started_at': '2024-02-19T19:39:11Z', 'language': 'fr', 'thumbnail_url': 'https://static-cdn.jtvnw.net/previews-ttv/live_user_jltomy-{width}x{height}.jpg', 'tag_ids': [], 'tags': ['Français', 'Joblife'], 'is_mature': False}, {'id': '41908575432', 'user_id': '27115917', 'user_login': 'kamet0', 'user_name': 'Kamet0', 'game_id': '18846', 'game_name': \"Garry's Mod\", 'type': 'live', 'title': 'NARUTO RP |  MAZARU UCHIHA SE LANCE DANS UNE NOUVELLE AVENTURE (!match) (!extension)', 'viewer_count': 16605, 'started_at': '2024-02-19T20:36:59Z', 'language': 'fr', 'thumbnail_url': 'https://static-cdn.jtvnw.net/previews-ttv/live_user_kamet0-{width}x{height}.jpg', 'tag_ids': [], 'tags': ['Français'], 'is_mature': False}, {'id': '40466730565', 'user_id': '85397463', 'user_login': 'noway4u_sir', 'user_name': 'NoWay4u_Sir', 'game_id': '21779', 'game_name': 'League of Legends', 'type': 'live', 'title': 'Shaco (Versuch 2) - Z-A', 'viewer_count': 16435, 'started_at': '2024-02-19T14:51:04Z', 'language': 'de', 'thumbnail_url': 'https://static-cdn.jtvnw.net/previews-ttv/live_user_noway4u_sir-{width}x{height}.jpg', 'tag_ids': [], 'tags': ['Deutsch'], 'is_mature': False}, {'id': '50441999245', 'user_id': '233300375', 'user_login': 'clix', 'user_name': 'Clix', 'game_id': '33214', 'game_name': 'Fortnite', 'type': 'live', 'title': '🏆 BECOMING THE BEST PLAYER BEFORE GRAND FINALS  🏆', 'viewer_count': 16021, 'started_at': '2024-02-19T22:28:45Z', 'language': 'en', 'thumbnail_url': 'https://static-cdn.jtvnw.net/previews-ttv/live_user_clix-{width}x{height}.jpg', 'tag_ids': [], 'tags': ['English'], 'is_mature': False}, {'id': '50439484109', 'user_id': '23735582', 'user_login': 'sacriel', 'user_name': 'Sacriel', 'game_id': '766571430', 'game_name': 'HELLDIVERS 2', 'type': 'live', 'title': '[✅DROPS ON] LET THE LIBER-TEA FLOW || !Announcement', 'viewer_count': 15142, 'started_at': '2024-02-19T17:16:45Z', 'language': 'en', 'thumbnail_url': 'https://static-cdn.jtvnw.net/previews-ttv/live_user_sacriel-{width}x{height}.jpg', 'tag_ids': [], 'tags': ['Educational', 'Analysis', 'KeyboardAndMouse', 'The42nd', 'Banter', 'British', 'Canadian', 'English', 'DropsEnabled'], 'is_mature': False}, {'id': '41908772088', 'user_id': '96116107', 'user_login': 'mixwell', 'user_name': 'Mixwell', 'game_id': '516575', 'game_name': 'VALORANT', 'type': 'live', 'title': '[ES] WATCHPARTY VCT Americas Kick-Off 2024 #VCTWatchParty 23:00 - [FURIA VS MIBR] - 02:00[SENTINELS VS 100THIEVES]', 'viewer_count': 13400, 'started_at': '2024-02-19T21:09:36Z', 'language': 'es', 'thumbnail_url': 'https://static-cdn.jtvnw.net/previews-ttv/live_user_mixwell-{width}x{height}.jpg', 'tag_ids': [], 'tags': ['Español', 'Heretics', 'mixwell', 'm1xwell', 'valorant', 'pro', 'Esports', 'watchparty'], 'is_mature': False}, {'id': '43653690459', 'user_id': '499928989', 'user_login': 'tck10', 'user_name': 'TcK10', 'game_id': '516575', 'game_name': 'VALORANT', 'type': 'live', 'title': 'MIBR 1x0 FURIA🐔MAIOR BÍCEPS RADIANTE 143qi 51 bíceps vida social ativa🐔!Growth !Gillette !Social', 'viewer_count': 13024, 'started_at': '2024-02-19T19:04:31Z', 'language': 'pt', 'thumbnail_url': 'https://static-cdn.jtvnw.net/previews-ttv/live_user_tck10-{width}x{height}.jpg', 'tag_ids': [], 'tags': ['melhordomundo', 'radiante', 'incrível', 'valorant', 'Português'], 'is_mature': False}, {'id': '50441360605', 'user_id': '502014446', 'user_login': 'valorant_br', 'user_name': 'VALORANT_BR', 'game_id': '516575', 'game_name': 'VALORANT', 'type': 'live', 'title': 'MIBR 1x0 FURIA | VCT Americas Kickoff - Fase de Grupos (Dia 4)', 'viewer_count': 12960, 'started_at': '2024-02-19T21:14:46Z', 'language': 'pt', 'thumbnail_url': 'https://static-cdn.jtvnw.net/previews-ttv/live_user_valorant_br-{width}x{height}.jpg', 'tag_ids': [], 'tags': ['Esports', 'português', 'Português'], 'is_mature': False}, {'id': '43653504443', 'user_id': '26301881', 'user_login': 'sodapoppin', 'user_name': 'sodapoppin', 'game_id': '1281851716', 'game_name': 'The Break-In', 'type': 'live', 'title': 'OH MY GOD CAPS LOCK I CANT BELIEVE IT CLICK OMFG | !starforge !gamersupps', 'viewer_count': 12662, 'started_at': '2024-02-19T18:52:46Z', 'language': 'en', 'thumbnail_url': 'https://static-cdn.jtvnw.net/previews-ttv/live_user_sodapoppin-{width}x{height}.jpg', 'tag_ids': [], 'tags': ['Anime', 'Vtuber', 'Furry', 'English', 'ADHD', 'NoBackseating', 'Hardcore'], 'is_mature': True}, {'id': '40467304869', 'user_id': '431146848', 'user_login': 'desst3', 'user_name': 'DessT3', 'game_id': '32982', 'game_name': 'Grand Theft Auto V', 'type': 'live', 'title': 'FREDDY | EL OJO QUE TODO LO VE | !ig   SPAINRP', 'viewer_count': 12111, 'started_at': '2024-02-19T18:04:00Z', 'language': 'es', 'thumbnail_url': 'https://static-cdn.jtvnw.net/previews-ttv/live_user_desst3-{width}x{height}.jpg', 'tag_ids': [], 'tags': ['conducción', 'música', 'Gta', 'Español', 'desst3', 'Dess', 'Rolplay', 'NoPixel'], 'is_mature': True}, {'id': '50438701453', 'user_id': '140772558', 'user_login': 'baiano', 'user_name': 'Baiano', 'game_id': '21779', 'game_name': 'League of Legends', 'type': 'live', 'title': '🟢 CBLOL ACADEMY AO VIVO: KBM x FUR 🔥🟢 🌴 ILHA DAS LENDAS #CBLOL', 'viewer_count': 11921, 'started_at': '2024-02-19T15:05:15Z', 'language': 'pt', 'thumbnail_url': 'https://static-cdn.jtvnw.net/previews-ttv/live_user_baiano-{width}x{height}.jpg', 'tag_ids': [], 'tags': ['CBLOL', 'LCK', 'LCS', 'COSTREAM', 'T1', 'Baiano', 'LPL', 'Academy', 'Português', 'Flamengo'], 'is_mature': True}, {'id': '43655384811', 'user_id': '267635380', 'user_login': 'luquet4', 'user_name': 'LuquEt4', 'game_id': '32982', 'game_name': 'Grand Theft Auto V', 'type': 'live', 'title': '+18 🔥RED BEIRAMAR🔥 PIXAMO A FAVELA DE GERAL! VMS SER COBRADO? / Ep 26 !betano', 'viewer_count': 11230, 'started_at': '2024-02-19T22:50:44Z', 'language': 'pt', 'thumbnail_url': 'https://static-cdn.jtvnw.net/previews-ttv/live_user_luquet4-{width}x{height}.jpg', 'tag_ids': [], 'tags': ['Português', 'redbeiramar', 'luquet4', 'grota', 'gta', 'luqueta'], 'is_mature': False}, {'id': '43654196203', 'user_id': '128002336', 'user_login': 's0mcs', 'user_name': 's0mcs', 'game_id': '516575', 'game_name': 'VALORANT', 'type': 'live', 'title': 'W STREAMER @s0mcs | FURIA vs MIBR - Americas Kickoff - Group Stage Day 4 | !video !socials !instagram', 'viewer_count': 11067, 'started_at': '2024-02-19T19:52:00Z', 'language': 'en', 'thumbnail_url': 'https://static-cdn.jtvnw.net/previews-ttv/live_user_s0mcs-{width}x{height}.jpg', 'tag_ids': [], 'tags': ['VALORANT', 'English'], 'is_mature': False}, {'id': '40467996933', 'user_id': '79769388', 'user_login': 'unsympathisch_tv', 'user_name': 'unsympathisch_tv', 'game_id': '509658', 'game_name': 'Just Chatting', 'type': 'live', 'title': 'LIVE REACTION BALLER LEAGUE - WIR MÜSSEN GEWINNEN!', 'viewer_count': 10580, 'started_at': '2024-02-19T21:42:12Z', 'language': 'de', 'thumbnail_url': 'https://static-cdn.jtvnw.net/previews-ttv/live_user_unsympathisch_tv-{width}x{height}.jpg', 'tag_ids': [], 'tags': ['Deutsch'], 'is_mature': True}, {'id': '43654235131', 'user_id': '95873995', 'user_login': 'ramee', 'user_name': 'Ramee', 'game_id': '32982', 'game_name': 'Grand Theft Auto V', 'type': 'live', 'title': 'Ramee | NoPixel 4.0', 'viewer_count': 10540, 'started_at': '2024-02-19T19:55:32Z', 'language': 'en', 'thumbnail_url': 'https://static-cdn.jtvnw.net/previews-ttv/live_user_ramee-{width}x{height}.jpg', 'tag_ids': [], 'tags': ['English'], 'is_mature': False}, {'id': '40467943925', 'user_id': '87183799', 'user_login': 'tikyjr', 'user_name': 'Tikyjr', 'game_id': '21779', 'game_name': 'League of Legends', 'type': 'live', 'title': 'SOLOQ FULL TRYHARD | (UNE VIDÉO YOUTUBE PAR JOUR) | !youtube', 'viewer_count': 10507, 'started_at': '2024-02-19T21:28:04Z', 'language': 'fr', 'thumbnail_url': 'https://static-cdn.jtvnw.net/previews-ttv/live_user_tikyjr-{width}x{height}.jpg', 'tag_ids': [], 'tags': ['LeagueOfLegends', 'Français'], 'is_mature': False}, {'id': '40468369189', 'user_id': '1039034874', 'user_login': 'simple_skins74534', 'user_name': 'simple_skins74534', 'game_id': '32399', 'game_name': 'Counter-Strike', 'type': 'live', 'title': 's1mple giveaway 50000$', 'viewer_count': 10490, 'started_at': '2024-02-19T23:17:30Z', 'language': 'en', 'thumbnail_url': 'https://static-cdn.jtvnw.net/previews-ttv/live_user_simple_skins74534-{width}x{height}.jpg', 'tag_ids': [], 'tags': ['English'], 'is_mature': False}, {'id': '50441957069', 'user_id': '106820088', 'user_login': 'carreraaa', 'user_name': 'Carreraaa', 'game_id': '509658', 'game_name': 'Just Chatting', 'type': 'live', 'title': 'lunes 😓 con L de 👉🏼 lamen 😛 mis huevos 🥚', 'viewer_count': 10419, 'started_at': '2024-02-19T22:23:48Z', 'language': 'es', 'thumbnail_url': 'https://static-cdn.jtvnw.net/previews-ttv/live_user_carreraaa-{width}x{height}.jpg', 'tag_ids': [], 'tags': ['Español'], 'is_mature': False}, {'id': '40467296789', 'user_id': '3389768', 'user_login': 'philza', 'user_name': 'Philza', 'game_id': '27471', 'game_name': 'Minecraft', 'type': 'live', 'title': \"QSMP - Money, It's a crime, Share it fairly, but don't take a slice of my pie  - !qsmp !ceasefire\", 'viewer_count': 10147, 'started_at': '2024-02-19T18:00:06Z', 'language': 'en', 'thumbnail_url': 'https://static-cdn.jtvnw.net/previews-ttv/live_user_philza-{width}x{height}.jpg', 'tag_ids': [], 'tags': ['Philza', 'blockgame', 'distracted', 'English'], 'is_mature': False}, {'id': '42328576985', 'user_id': '128775333', 'user_login': 'coreano', 'user_name': 'Coreano', 'game_id': '516575', 'game_name': 'VALORANT', 'type': 'live', 'title': 'MIBR 1x0 FURIA (Md3) | VCT Americas Kickoff Fase de Grupos (Dia 4) | !olimpo !reddit', 'viewer_count': 10129, 'started_at': '2024-02-19T15:00:05Z', 'language': 'pt', 'thumbnail_url': 'https://static-cdn.jtvnw.net/previews-ttv/live_user_coreano-{width}x{height}.jpg', 'tag_ids': [], 'tags': ['Português'], 'is_mature': False}, {'id': '41907989640', 'user_id': '135468063', 'user_login': 'antoinedaniel', 'user_name': 'AntoineDaniel', 'game_id': '516575', 'game_name': 'VALORANT', 'type': 'live', 'title': 'juste une', 'viewer_count': 9912, 'started_at': '2024-02-19T18:46:22Z', 'language': 'fr', 'thumbnail_url': 'https://static-cdn.jtvnw.net/previews-ttv/live_user_antoinedaniel-{width}x{height}.jpg', 'tag_ids': [], 'tags': ['Français'], 'is_mature': True}, {'id': '43653260827', 'user_id': '38244180', 'user_login': 'alanzoka', 'user_name': 'alanzoka', 'game_id': '21842902', 'game_name': 'Banishers: Ghosts of New Eden', 'type': 'live', 'title': 'TERMINANDO BANISHERS MEU DEUS MAIS UM JOGO O CARA É UM MESTRE NA ARTE DE FINALIZAR JOGOS ELETRONICOS', 'viewer_count': 9522, 'started_at': '2024-02-19T18:27:45Z', 'language': 'pt', 'thumbnail_url': 'https://static-cdn.jtvnw.net/previews-ttv/live_user_alanzoka-{width}x{height}.jpg', 'tag_ids': [], 'tags': ['Idoso', 'Gostoso', 'Português'], 'is_mature': False}, {'id': '40466923349', 'user_id': '28575692', 'user_login': 'mistermv', 'user_name': 'mistermv', 'game_id': '745589378', 'game_name': 'Balatro', 'type': 'live', 'title': 'LE RETOUR DU ROI DE COEUR - BALATRO 1.0', 'viewer_count': 9417, 'started_at': '2024-02-19T15:56:04Z', 'language': 'fr', 'thumbnail_url': 'https://static-cdn.jtvnw.net/previews-ttv/live_user_mistermv-{width}x{height}.jpg', 'tag_ids': [], 'tags': ['Français'], 'is_mature': False}, {'id': '42329916697', 'user_id': '111799555', 'user_login': 'bonsaibroz', 'user_name': 'BonsaiBroz', 'game_id': '512980', 'game_name': 'Fall Guys', 'type': 'live', 'title': '!BK Million Dollar Whopper® Contest | Showdown Prep! TopThat! #AD', 'viewer_count': 9209, 'started_at': '2024-02-19T22:56:22Z', 'language': 'en', 'thumbnail_url': 'https://static-cdn.jtvnw.net/previews-ttv/live_user_bonsaibroz-{width}x{height}.jpg', 'tag_ids': [], 'tags': ['Chatty', 'Welcoming', 'community', 'English', 'gigachad', 'hotchat', 'Bonsai'], 'is_mature': False}, {'id': '43654415883', 'user_id': '427632467', 'user_login': 'lvndmark', 'user_name': 'LVNDMARK', 'game_id': '491931', 'game_name': 'Escape from Tarkov', 'type': 'live', 'title': '🚨 2x PC !GIVEAWAY 🚨 | LVNDMARK_TV On Socials', 'viewer_count': 8709, 'started_at': '2024-02-19T20:09:07Z', 'language': 'en', 'thumbnail_url': 'https://static-cdn.jtvnw.net/previews-ttv/live_user_lvndmark-{width}x{height}.jpg', 'tag_ids': [], 'tags': ['PvP', 'GIGACHAD', 'Pizza', 'Tripod', 'English'], 'is_mature': False}, {'id': '43653337611', 'user_id': '38746172', 'user_login': 'esfandtv', 'user_name': 'EsfandTV', 'game_id': '32982', 'game_name': 'Grand Theft Auto V', 'type': 'live', 'title': 'Cornwood GTA RP - @esfandtv on all socials!', 'viewer_count': 8660, 'started_at': '2024-02-19T18:34:32Z', 'language': 'en', 'thumbnail_url': 'https://static-cdn.jtvnw.net/previews-ttv/live_user_esfandtv-{width}x{height}.jpg', 'tag_ids': [], 'tags': ['English', 'IRL', 'Football', 'sports', 'Cornwood', 'GTARP', 'NoPixel', 'OTK'], 'is_mature': False}, {'id': '50442210189', 'user_id': '26490481', 'user_login': 'summit1g', 'user_name': 'summit1g', 'game_id': '491931', 'game_name': 'Escape from Tarkov', 'type': 'live', 'title': 'trying to get last two items for Kappa - @summit1g', 'viewer_count': 8584, 'started_at': '2024-02-19T22:53:39Z', 'language': 'en', 'thumbnail_url': 'https://static-cdn.jtvnw.net/previews-ttv/live_user_summit1g-{width}x{height}.jpg', 'tag_ids': [], 'tags': ['English'], 'is_mature': False}, {'id': '41909143560', 'user_id': '935309911', 'user_login': 'aiworld_official', 'user_name': 'aiworld_official', 'game_id': '116747788', 'game_name': 'Pools, Hot Tubs, and Beaches', 'type': 'live', 'title': 'AI World -  Season 2 (FINAL stream)', 'viewer_count': 8555, 'started_at': '2024-02-19T22:56:04Z', 'language': 'en', 'thumbnail_url': 'https://static-cdn.jtvnw.net/previews-ttv/live_user_aiworld_official-{width}x{height}.jpg', 'tag_ids': [], 'tags': ['ai', 'hungergames', 'streamers', 'SpongeBob', 'peter', 'topics', 'show', 'bikini', 'English', 'TwerkOff'], 'is_mature': False}, {'id': '43653288027', 'user_id': '121510236', 'user_login': 'juansguarnizo', 'user_name': 'juansguarnizo', 'game_id': '32982', 'game_name': 'Grand Theft Auto V', 'type': 'live', 'title': 'LEONARDO EL PADRE DEL AÑO 👶💕 + WARZONE c/ ElDed (el que haga el chiste va ban)', 'viewer_count': 8096, 'started_at': '2024-02-19T18:30:05Z', 'language': 'es', 'thumbnail_url': 'https://static-cdn.jtvnw.net/previews-ttv/live_user_juansguarnizo-{width}x{height}.jpg', 'tag_ids': [], 'tags': ['Español'], 'is_mature': False}, {'id': '41907640696', 'user_id': '1895664', 'user_login': 'djmariio', 'user_name': 'DjMaRiiO', 'game_id': '143106037', 'game_name': 'EA Sports FC 24', 'type': 'live', 'title': 'MBAPPÉ YA HA FIRMADO CON EL MADRID | ME ROBAN 1 ESLAND | FUT CHAMPIONS LLORANDO | HOY NO HAY AFTER KINGS - DjMaRiiO', 'viewer_count': 8051, 'started_at': '2024-02-19T17:37:44Z', 'language': 'es', 'thumbnail_url': 'https://static-cdn.jtvnw.net/previews-ttv/live_user_djmariio-{width}x{height}.jpg', 'tag_ids': [], 'tags': ['DJMARIO', 'DJMARIIO', 'FIFA', 'FC24', 'FC', 'Español', 'KINGSLEAGUE', 'FINALFOUR', 'KINGDOM', 'ULTIMATEMOSTOLES'], 'is_mature': False}, {'id': '42328562297', 'user_id': '123182260', 'user_login': 'hiswattson', 'user_name': 'HisWattson', 'game_id': '511224', 'game_name': 'Apex Legends', 'type': 'live', 'title': 'Going for Rank #1 Apex Predator !coaching', 'viewer_count': 7994, 'started_at': '2024-02-19T14:54:57Z', 'language': 'en', 'thumbnail_url': 'https://static-cdn.jtvnw.net/previews-ttv/live_user_hiswattson-{width}x{height}.jpg', 'tag_ids': [], 'tags': ['English', 'DropsEnabled'], 'is_mature': False}, {'id': '43652818667', 'user_id': '40972890', 'user_login': 'admiralbahroo', 'user_name': 'AdmiralBahroo', 'game_id': '1952699919', 'game_name': 'Deep Rock Galactic: Survivor', 'type': 'live', 'title': 'Hazard 5 All Classes and we never lose | Nightingale Tomorrow!', 'viewer_count': 7973, 'started_at': '2024-02-19T16:10:09Z', 'language': 'en', 'thumbnail_url': 'https://static-cdn.jtvnw.net/previews-ttv/live_user_admiralbahroo-{width}x{height}.jpg', 'tag_ids': [], 'tags': ['Comfy', 'Relaxed', 'Stream', 'English', 'Vtuber'], 'is_mature': False}, {'id': '41907434440', 'user_id': '430023505', 'user_login': 'xrohat', 'user_name': 'xRohat', 'game_id': '516575', 'game_name': 'VALORANT', 'type': 'live', 'title': 'Valorant mit @Eldos | !kingcans !sourire', 'viewer_count': 7926, 'started_at': '2024-02-19T16:50:59Z', 'language': 'de', 'thumbnail_url': 'https://static-cdn.jtvnw.net/previews-ttv/live_user_xrohat-{width}x{height}.jpg', 'tag_ids': [], 'tags': ['Deutsch'], 'is_mature': False}, {'id': '50441545437', 'user_id': '47119647', 'user_login': 'tteuw', 'user_name': 'tteuw', 'game_id': '516575', 'game_name': 'VALORANT', 'type': 'live', 'title': 'MIBR 1x0 FURIA | !PCGAMER #VCTWatchParty', 'viewer_count': 7804, 'started_at': '2024-02-19T21:35:25Z', 'language': 'pt', 'thumbnail_url': 'https://static-cdn.jtvnw.net/previews-ttv/live_user_tteuw-{width}x{height}.jpg', 'tag_ids': [], 'tags': ['Português'], 'is_mature': True}, {'id': '41907620920', 'user_id': '122808988', 'user_login': 'edizderbreite', 'user_name': 'edizderbreite', 'game_id': '32982', 'game_name': 'Grand Theft Auto V', 'type': 'live', 'title': '[FINALCITY] FARUD RP🔥18+ | !Biteem !ESN ᵃᵈ', 'viewer_count': 7736, 'started_at': '2024-02-19T17:33:43Z', 'language': 'de', 'thumbnail_url': 'https://static-cdn.jtvnw.net/previews-ttv/live_user_edizderbreite-{width}x{height}.jpg', 'tag_ids': [], 'tags': ['Deutsch', 'Roleplay', 'Unterhaltung'], 'is_mature': True}, {'id': '42329265849', 'user_id': '40488774', 'user_login': 'stray228', 'user_name': 'Stray228', 'game_id': '29595', 'game_name': 'Dota 2', 'type': 'live', 'title': 'ЧЕМПИОНСКОЕ ДЕРЬМО!Тренировочка на центральной линии с крепкими мужчинами, Барьбэ за очко рейтинга', 'viewer_count': 7592, 'started_at': '2024-02-19T18:51:40Z', 'language': 'ru', 'thumbnail_url': 'https://static-cdn.jtvnw.net/previews-ttv/live_user_stray228-{width}x{height}.jpg', 'tag_ids': [], 'tags': ['dota2', 'высокийскилл', 'адекватнаяатмосфера', 'хорошаямузыка', 'Proplayer', 'Обучение', 'mid', 'солевойстример', 'legend', 'Русский'], 'is_mature': False}, {'id': '50441763021', 'user_id': '262319971', 'user_login': 'batalhadaaldeia', 'user_name': 'BatalhaDaAldeia', 'game_id': '26936', 'game_name': 'Music', 'type': 'live', 'title': 'BDA  361! 16 MCS DIRETO DA PRAÇA!  !mcs !musicpro !vans !vkodonto', 'viewer_count': 7514, 'started_at': '2024-02-19T22:02:01Z', 'language': 'pt', 'thumbnail_url': 'https://static-cdn.jtvnw.net/previews-ttv/live_user_batalhadaaldeia-{width}x{height}.jpg', 'tag_ids': [], 'tags': ['BDA', 'Batalhadaaldeia', 'HipHop', 'Português'], 'is_mature': False}, {'id': '50441537933', 'user_id': '90222258', 'user_login': 'agent00', 'user_name': 'Agent00', 'game_id': '538054672', 'game_name': 'TEKKEN 8', 'type': 'live', 'title': 'LAST STREAM BEFORE I LEAVEEEE', 'viewer_count': 7501, 'started_at': '2024-02-19T21:34:43Z', 'language': 'en', 'thumbnail_url': 'https://static-cdn.jtvnw.net/previews-ttv/live_user_agent00-{width}x{height}.jpg', 'tag_ids': [], 'tags': ['AMP', 'AGENT00', 'English'], 'is_mature': False}, {'id': '42328289961', 'user_id': '68727743', 'user_login': 'razah', 'user_name': 'RazaH', 'game_id': '460630', 'game_name': \"Tom Clancy's Rainbow Six Siege\", 'type': 'live', 'title': 'Virtus Pro 1 vs 0 NIP l SIX INVITATIONAL BRAZIL2024', 'viewer_count': 7494, 'started_at': '2024-02-19T12:44:21Z', 'language': 'pt', 'thumbnail_url': 'https://static-cdn.jtvnw.net/previews-ttv/live_user_razah-{width}x{height}.jpg', 'tag_ids': [], 'tags': ['Português', 'DropsAtivados'], 'is_mature': False}, {'id': '50440852061', 'user_id': '821717189', 'user_login': 'ilrossopiubelloditwitch', 'user_name': 'ilrossopiubelloditwitch', 'game_id': '509658', 'game_name': 'Just Chatting', 'type': 'live', 'title': '🕺CASA NUOVA?!🕺 OSPITI: la mia ragazza, jenni serpi, matilde, icy subzero, rebecca, giovanni bonaccini🕺', 'viewer_count': 7234, 'started_at': '2024-02-19T20:07:37Z', 'language': 'it', 'thumbnail_url': 'https://static-cdn.jtvnw.net/previews-ttv/live_user_ilrossopiubelloditwitch-{width}x{height}.jpg', 'tag_ids': [], 'tags': ['Italiano', 'INTRATTENIMENTO', 'rosso'], 'is_mature': False}, {'id': '41908843192', 'user_id': '13884994', 'user_login': 'zerkaa', 'user_name': 'Zerkaa', 'game_id': '32982', 'game_name': 'Grand Theft Auto V', 'type': 'live', 'title': \"🟢 TOMMY T 🟢 DON'T KNOW ABOUT ME 🟢NOPIXEL 4.0 🟢 !schedule !yt\", 'viewer_count': 7222, 'started_at': '2024-02-19T21:23:11Z', 'language': 'en', 'thumbnail_url': 'https://static-cdn.jtvnw.net/previews-ttv/live_user_zerkaa-{width}x{height}.jpg', 'tag_ids': [], 'tags': ['English'], 'is_mature': False}, {'id': '41907909464', 'user_id': '66418614', 'user_login': 'gofns', 'user_name': 'GOFNS', 'game_id': '516575', 'game_name': 'VALORANT', 'type': 'live', 'title': '@GOFNS | WATCH PARTY NOW! FURIA vs MIBR - Americas Kickoff - Group Stage Day 4 | !socials !newvid !2.25k !watchparty \\U000e0000', 'viewer_count': 7055, 'started_at': '2024-02-19T18:31:34Z', 'language': 'en', 'thumbnail_url': 'https://static-cdn.jtvnw.net/previews-ttv/live_user_gofns-{width}x{height}.jpg', 'tag_ids': [], 'tags': ['English'], 'is_mature': False}, {'id': '43653251003', 'user_id': '40063341', 'user_login': 'domingo', 'user_name': 'Domingo', 'game_id': '2091165871', 'game_name': 'Football Manager 2024', 'type': 'live', 'title': 'DEBUT DE LA SAISON EN LIGUE 2 !!', 'viewer_count': 6973, 'started_at': '2024-02-19T18:26:47Z', 'language': 'fr', 'thumbnail_url': 'https://static-cdn.jtvnw.net/previews-ttv/live_user_domingo-{width}x{height}.jpg', 'tag_ids': [], 'tags': ['Français'], 'is_mature': False}, {'id': '50441124061', 'user_id': '39154501', 'user_login': 'des0ut', 'user_name': 'des0ut', 'game_id': '493057', 'game_name': 'PUBG: BATTLEGROUNDS', 'type': 'live', 'title': '🔴pubg w/ @evelone2004 @skywhywalker @Dmitry_Lixxx !betboom !tg', 'viewer_count': 6959, 'started_at': '2024-02-19T20:45:55Z', 'language': 'ru', 'thumbnail_url': 'https://static-cdn.jtvnw.net/previews-ttv/live_user_des0ut-{width}x{height}.jpg', 'tag_ids': [], 'tags': ['Русский', 'киберспорт', 'умом'], 'is_mature': False}, {'id': '41908827688', 'user_id': '75891532', 'user_login': 'michel', 'user_name': 'Michel', 'game_id': '516575', 'game_name': 'VALORANT', 'type': 'live', 'title': 'LIVE: FURIA (0) vs (1) MIBR - VCT Americas Kickoff', 'viewer_count': 6790, 'started_at': '2024-02-19T21:20:11Z', 'language': 'pt', 'thumbnail_url': 'https://static-cdn.jtvnw.net/previews-ttv/live_user_michel-{width}x{height}.jpg', 'tag_ids': [], 'tags': ['Português', 'Imperial', 'FURIA', 'LOUD', 'Tribo', 'CSGO', 'MIBR', 'Fluxo', 'paiN', 'VALORANT'], 'is_mature': False}, {'id': '41908372888', 'user_id': '53065331', 'user_login': 'dariomocciatwitch', 'user_name': 'DarioMocciaTwitch', 'game_id': '95777581', 'game_name': 'Prince of Persia: The Lost Crown', 'type': 'live', 'title': 'Vedremo il finale? !artbook !palinsesto !prime !pc', 'viewer_count': 6783, 'started_at': '2024-02-19T20:00:15Z', 'language': 'it', 'thumbnail_url': 'https://static-cdn.jtvnw.net/previews-ttv/live_user_dariomocciatwitch-{width}x{height}.jpg', 'tag_ids': [], 'tags': ['Italiano'], 'is_mature': False}, {'id': '50438654877', 'user_id': '120244187', 'user_login': 'aydan', 'user_name': 'Aydan', 'game_id': '512710', 'game_name': 'Call of Duty: Warzone', 'type': 'live', 'title': '!Rank #1 Grind (Currently Rank #2) | !loadout !monster', 'viewer_count': 6714, 'started_at': '2024-02-19T14:52:29Z', 'language': 'en', 'thumbnail_url': 'https://static-cdn.jtvnw.net/previews-ttv/live_user_aydan-{width}x{height}.jpg', 'tag_ids': [], 'tags': ['English'], 'is_mature': True}, {'id': '40468056373', 'user_id': '173066877', 'user_login': 'bichouu_', 'user_name': 'Bichouu_', 'game_id': '32982', 'game_name': 'Grand Theft Auto V', 'type': 'live', 'title': 'LE BIG RETOUR DU BIG BICHOU', 'viewer_count': 6709, 'started_at': '2024-02-19T21:55:59Z', 'language': 'fr', 'thumbnail_url': 'https://static-cdn.jtvnw.net/previews-ttv/live_user_bichouu_-{width}x{height}.jpg', 'tag_ids': [], 'tags': ['Français'], 'is_mature': True}, {'id': '43652884635', 'user_id': '128440061', 'user_login': 'zentreya', 'user_name': 'Zentreya', 'game_id': '766571430', 'game_name': 'HELLDIVERS 2', 'type': 'live', 'title': 'NEW OUTFIT / UPDATES + SQUASHING BUGS W/ @EVILTOASTER @HEAVENLYFATHER @RUBENSARGASM | !bits !tts !merch !advgg !luwud !smite | #VSHOJO', 'viewer_count': 6366, 'started_at': '2024-02-19T16:42:37Z', 'language': 'en', 'thumbnail_url': 'https://static-cdn.jtvnw.net/previews-ttv/live_user_zentreya-{width}x{height}.jpg', 'tag_ids': [], 'tags': ['vtuber', 'subtitles', 'anime', 'gamer', 'adhd', 'Vshojo', 'based', 'GoodMusicTaste', 'English'], 'is_mature': False}, {'id': '41906382440', 'user_id': '26921830', 'user_login': 'elajjaz', 'user_name': 'Elajjaz', 'game_id': '323323854', 'game_name': 'Fossilfuel 2', 'type': 'live', 'title': 'New Dinosaur horror game! - Fossil Fuel | Final event 3rd of March !SwedishClassic', 'viewer_count': 6338, 'started_at': '2024-02-19T14:02:04Z', 'language': 'en', 'thumbnail_url': 'https://static-cdn.jtvnw.net/previews-ttv/live_user_elajjaz-{width}x{height}.jpg', 'tag_ids': [], 'tags': ['English'], 'is_mature': False}, {'id': '50440133373', 'user_id': '43548655', 'user_login': 'tanzverbot', 'user_name': 'TANZVERBOT', 'game_id': '509658', 'game_name': 'Just Chatting', 'type': 'live', 'title': 'Wohnmobil Tour - Hoffentlich funktioniert jetzt alles...', 'viewer_count': 6322, 'started_at': '2024-02-19T18:06:58Z', 'language': 'de', 'thumbnail_url': 'https://static-cdn.jtvnw.net/previews-ttv/live_user_tanzverbot-{width}x{height}.jpg', 'tag_ids': [], 'tags': ['Deutsch', 'reaction', 'berlin', 'tanzverbot', 'Messe'], 'is_mature': False}, {'id': '43653089691', 'user_id': '24991333', 'user_login': 'imaqtpie', 'user_name': 'imaqtpie', 'game_id': '21779', 'game_name': 'League of Legends', 'type': 'live', 'title': 'getting masters back lol some unlucky games but all good climbing back up', 'viewer_count': 6300, 'started_at': '2024-02-19T18:07:01Z', 'language': 'en', 'thumbnail_url': 'https://static-cdn.jtvnw.net/previews-ttv/live_user_imaqtpie-{width}x{height}.jpg', 'tag_ids': [], 'tags': ['English'], 'is_mature': False}, {'id': '50440129085', 'user_id': '100901794', 'user_login': 'shylily', 'user_name': 'Shylily', 'game_id': '209738946', 'game_name': 'Wuthering Waves', 'type': 'live', 'title': '🦐WUTHERING WAVES TONIGHT! LETS GOOO!! OUR LATEST LIMITED TIME !GG Merch available for a few more Days! !waves #wutheringwaves #ad', 'viewer_count': 6300, 'started_at': '2024-02-19T18:06:45Z', 'language': 'en', 'thumbnail_url': 'https://static-cdn.jtvnw.net/previews-ttv/live_user_shylily-{width}x{height}.jpg', 'tag_ids': [], 'tags': ['AAAAAAAAAAAAAAAAAAAAAAAAA', 'Vtuber', 'Anime', 'VisualASMR', 'ASMR', 'FirstPlaythrough', 'English', 'NoBackseating'], 'is_mature': True}, {'id': '50441773949', 'user_id': '272748387', 'user_login': 'asianjeff', 'user_name': 'AsianJeff', 'game_id': '33214', 'game_name': 'Fortnite', 'type': 'live', 'title': 'PRO DUO SCRIMS W/ @OliverOG --> MIX-UP MONDAY AT 8PM EST  | 🎉QUALED FOR FNCS GRAND FINALS🎉| 🚨NEW 1V1 MAP 4544-3374-0559🚨 | !discord', 'viewer_count': 6257, 'started_at': '2024-02-19T22:03:26Z', 'language': 'en', 'thumbnail_url': 'https://static-cdn.jtvnw.net/previews-ttv/live_user_asianjeff-{width}x{height}.jpg', 'tag_ids': [], 'tags': ['English'], 'is_mature': True}, {'id': '50440039021', 'user_id': '41875213', 'user_login': 'grendy', 'user_name': 'Grendy', 'game_id': '32982', 'game_name': 'Grand Theft Auto V', 'type': 'live', 'title': 'KONWÓJ KSIĘDZA - POGRZEB MUĆKA - PRZYJĘCIE DO BANDY - 5City', 'viewer_count': 6073, 'started_at': '2024-02-19T18:01:22Z', 'language': 'pl', 'thumbnail_url': 'https://static-cdn.jtvnw.net/previews-ttv/live_user_grendy-{width}x{height}.jpg', 'tag_ids': [], 'tags': ['Polski', 'aktorstwogłosowe', 'CoCoRP', 'GTAvRP', 'grendy', 'Grendy', 'odgrywanieról', 'odgrywanieroli', 'Turniej', '5city'], 'is_mature': False}, {'id': '43653122363', 'user_id': '61812950', 'user_login': 'otzdarva', 'user_name': 'Otzdarva', 'game_id': '491487', 'game_name': 'Dead by Daylight', 'type': 'live', 'title': 'Coming Tomorrow: New Killer + Huntress with 10 hatchets & more, on the PTB | !faq !displate !specs', 'viewer_count': 5778, 'started_at': '2024-02-19T18:13:11Z', 'language': 'en', 'thumbnail_url': 'https://static-cdn.jtvnw.net/previews-ttv/live_user_otzdarva-{width}x{height}.jpg', 'tag_ids': [], 'tags': ['English'], 'is_mature': False}, {'id': '42328256217', 'user_id': '132106826', 'user_login': 'rainbow6br', 'user_name': 'Rainbow6BR', 'game_id': '460630', 'game_name': \"Tom Clancy's Rainbow Six Siege\", 'type': 'live', 'title': 'SIX INVITATIONAL 2024 - PLAYOFFS - DIA 1 - STREAM A', 'viewer_count': 5745, 'started_at': '2024-02-19T12:20:01Z', 'language': 'pt', 'thumbnail_url': 'https://static-cdn.jtvnw.net/previews-ttv/live_user_rainbow6br-{width}x{height}.jpg', 'tag_ids': [], 'tags': ['Esports', 'Português', 'DropsAtivados'], 'is_mature': False}, {'id': '41907211512', 'user_id': '152633332', 'user_login': 'knekro', 'user_name': 'knekro', 'game_id': '209738946', 'game_name': 'Wuthering Waves', 'type': 'live', 'title': 'ESTAMOS DE VUELTA | FIN DE SEMANA HISTORICO | Wuthering Waves de chill | !eneba !discord', 'viewer_count': 5645, 'started_at': '2024-02-19T16:20:38Z', 'language': 'es', 'thumbnail_url': 'https://static-cdn.jtvnw.net/previews-ttv/live_user_knekro-{width}x{height}.jpg', 'tag_ids': [], 'tags': ['Español', 'Knekrer', 'variety', 'Elmejor', 'CHALLENGER', 'Rarete'], 'is_mature': False}, {'id': '40466070965', 'user_id': '30623831', 'user_login': 'quickybaby', 'user_name': 'QuickyBaby', 'game_id': '27546', 'game_name': 'World of Tanks', 'type': 'live', 'title': '🔥*NEW* !DROPS🔥GET EPIC STYLES/PREMIUM TANKS FOR FREE | 40 x UNLOCKED !PollTanks @19:00 | !Prime | Day 1/2', 'viewer_count': 5538, 'started_at': '2024-02-19T11:43:51Z', 'language': 'en', 'thumbnail_url': 'https://static-cdn.jtvnw.net/previews-ttv/live_user_quickybaby-{width}x{height}.jpg', 'tag_ids': [], 'tags': ['English', 'EU', 'Drop', 'drops', 'DropsEnabled'], 'is_mature': False}, {'id': '42328270441', 'user_id': '246244003', 'user_login': 'rainbow6bravo', 'user_name': 'Rainbow6Bravo', 'game_id': '460630', 'game_name': \"Tom Clancy's Rainbow Six Siege\", 'type': 'live', 'title': 'Six Invitational 2024 - Playoffs Day 1 - Virtus.Pro vs Ninjas in Pyjamas', 'viewer_count': 5530, 'started_at': '2024-02-19T12:30:30Z', 'language': 'en', 'thumbnail_url': 'https://static-cdn.jtvnw.net/previews-ttv/live_user_rainbow6bravo-{width}x{height}.jpg', 'tag_ids': [], 'tags': ['Esports', 'R6S', 'RainbowSixSiege', 'Ubisoft', 'English', 'DropsEnabled'], 'is_mature': True}, {'id': '50441542301', 'user_id': '246450563', 'user_login': 'stableronaldo', 'user_name': 'stableronaldo', 'game_id': '509658', 'game_name': 'Just Chatting', 'type': 'live', 'title': '10 hour today [insta/twitter @stableronaldo]', 'viewer_count': 5380, 'started_at': '2024-02-19T21:35:11Z', 'language': 'en', 'thumbnail_url': 'https://static-cdn.jtvnw.net/previews-ttv/live_user_stableronaldo-{width}x{height}.jpg', 'tag_ids': [], 'tags': ['English'], 'is_mature': False}, {'id': '42539181614', 'user_id': '60672785', 'user_login': 'robinsongz', 'user_name': 'robinsongz', 'game_id': '513143', 'game_name': 'Teamfight Tactics', 'type': 'live', 'title': 'RANK 6 NA 1531 LP START REGIONAL PREP STARTS NOW!!!!!!!!!!!! !handbook', 'viewer_count': 5166, 'started_at': '2024-02-19T18:20:54Z', 'language': 'en', 'thumbnail_url': 'https://static-cdn.jtvnw.net/previews-ttv/live_user_robinsongz-{width}x{height}.jpg', 'tag_ids': [], 'tags': ['young', 'actuallyold', 'English'], 'is_mature': False}, {'id': '41079898487', 'user_id': '598495509', 'user_login': 'akamikarubi', 'user_name': '赤見かるび', 'game_id': '21779', 'game_name': 'League of Legends', 'type': 'live', 'title': 'こっそりLOL ミッドしてみたい', 'viewer_count': 5138, 'started_at': '2024-02-19T21:13:16Z', 'language': 'ja', 'thumbnail_url': 'https://static-cdn.jtvnw.net/previews-ttv/live_user_akamikarubi-{width}x{height}.jpg', 'tag_ids': [], 'tags': ['日本語'], 'is_mature': False}, {'id': '40466275381', 'user_id': '121329766', 'user_login': 'neexcsgo', 'user_name': 'NEEXcsgo', 'game_id': '509658', 'game_name': 'Just Chatting', 'type': 'live', 'title': 'TOP1 WSCHODZĄCA GWIAZDA NA TIKTOK/ POTEM CS !steelseries !superbet !yt', 'viewer_count': 5116, 'started_at': '2024-02-19T12:36:16Z', 'language': 'pl', 'thumbnail_url': 'https://static-cdn.jtvnw.net/previews-ttv/live_user_neexcsgo-{width}x{height}.jpg', 'tag_ids': [], 'tags': ['Polski', 'csgo', 'CS2'], 'is_mature': False}, {'id': '50442091229', 'user_id': '35958947', 'user_login': 'squeex', 'user_name': 'Squeex', 'game_id': '509658', 'game_name': 'Just Chatting', 'type': 'live', 'title': 'addressing the drama 😂 STREAMER AWARDS RECAP 😂 WHO KNOWS WHAT WILL HAPPEN 😂 !YouTube', 'viewer_count': 5083, 'started_at': '2024-02-19T22:39:24Z', 'language': 'en', 'thumbnail_url': 'https://static-cdn.jtvnw.net/previews-ttv/live_user_squeex-{width}x{height}.jpg', 'tag_ids': [], 'tags': ['evil', 'unemployed', 'English'], 'is_mature': False}, {'id': '41908767864', 'user_id': '790173918', 'user_login': 'cameliaaa92', 'user_name': 'cameliaaa92', 'game_id': '32982', 'game_name': 'Grand Theft Auto V', 'type': 'live', 'title': 'FLASHLAND WL | Kiara En Ville ~ !cmds', 'viewer_count': 5055, 'started_at': '2024-02-19T21:09:06Z', 'language': 'fr', 'thumbnail_url': 'https://static-cdn.jtvnw.net/previews-ttv/live_user_cameliaaa92-{width}x{height}.jpg', 'tag_ids': [], 'tags': ['Français'], 'is_mature': False}, {'id': '43655153163', 'user_id': '494543675', 'user_login': 'lacy', 'user_name': 'Lacy', 'game_id': '33214', 'game_name': 'Fortnite', 'type': 'live', 'title': 'its time for a change. | !ModCamp', 'viewer_count': 5044, 'started_at': '2024-02-19T22:09:28Z', 'language': 'en', 'thumbnail_url': 'https://static-cdn.jtvnw.net/previews-ttv/live_user_lacy-{width}x{height}.jpg', 'tag_ids': [], 'tags': ['English'], 'is_mature': False}, {'id': '42329420537', 'user_id': '1039372233', 'user_login': 'frg_ffs', 'user_name': 'FRG_FFS', 'game_id': '493887283', 'game_name': 'Casino', 'type': 'live', 'title': 'БОНУСКИ В НОВОМ КАЗЕ | 1GO', 'viewer_count': 5038, 'started_at': '2024-02-19T20:02:36Z', 'language': 'ru', 'thumbnail_url': 'https://static-cdn.jtvnw.net/previews-ttv/live_user_frg_ffs-{width}x{height}.jpg', 'tag_ids': [], 'tags': ['Русский'], 'is_mature': False}, {'id': '50441927709', 'user_id': '569342750', 'user_login': 'badboyhalo', 'user_name': 'BadBoyHalo', 'game_id': '27471', 'game_name': 'Minecraft', 'type': 'live', 'title': 'QSMP - Absence', 'viewer_count': 4996, 'started_at': '2024-02-19T22:20:04Z', 'language': 'en', 'thumbnail_url': 'https://static-cdn.jtvnw.net/previews-ttv/live_user_badboyhalo-{width}x{height}.jpg', 'tag_ids': [], 'tags': ['English', 'qsmp', 'Captions', 'minecraft'], 'is_mature': False}, {'id': '50441437229', 'user_id': '9528182', 'user_login': 'chilledchaos', 'user_name': 'ChilledChaos', 'game_id': '18846', 'game_name': \"Garry's Mod\", 'type': 'live', 'title': \"PROPHUNT IS BACK! (Garry's Mod) | Mario Kart After!\", 'viewer_count': 4972, 'started_at': '2024-02-19T21:23:19Z', 'language': 'en', 'thumbnail_url': 'https://static-cdn.jtvnw.net/previews-ttv/live_user_chilledchaos-{width}x{height}.jpg', 'tag_ids': [], 'tags': ['LyingEncouraged', 'yugioh', 'SocialDeception', 'AmongUS', 'SociallyAwkward', 'ChilledChaos', 'ItalianSafeSpace', 'English'], 'is_mature': False}, {'id': '40467237141', 'user_id': '38121996', 'user_login': 'bastighg', 'user_name': 'BastiGHG', 'game_id': '27471', 'game_name': 'Minecraft', 'type': 'live', 'title': 'LATENIGHT HG MIT BASTIGHG🔹', 'viewer_count': 4902, 'started_at': '2024-02-19T17:41:08Z', 'language': 'de', 'thumbnail_url': 'https://static-cdn.jtvnw.net/previews-ttv/live_user_bastighg-{width}x{height}.jpg', 'tag_ids': [], 'tags': ['GHG', 'Deutsch'], 'is_mature': False}, {'id': '42539232926', 'user_id': '143776262', 'user_login': 'keznit1', 'user_name': 'keznit1', 'game_id': '516575', 'game_name': 'VALORANT', 'type': 'live', 'title': 'Día 4 — VCT Americas Kickoff — Fase de  / !sorteo !codigofn !exopik !partido !team !hora !ds !tiktok !redes !donate !playlist SANTIX100PRE❤️', 'viewer_count': 4870, 'started_at': '2024-02-19T19:56:58Z', 'language': 'es', 'thumbnail_url': 'https://static-cdn.jtvnw.net/previews-ttv/live_user_keznit1-{width}x{height}.jpg', 'tag_ids': [], 'tags': ['Español'], 'is_mature': False}, {'id': '41906600072', 'user_id': '73437396', 'user_login': 'bonjwa', 'user_name': 'Bonjwa', 'game_id': '1952699919', 'game_name': 'Deep Rock Galactic: Survivor', 'type': 'live', 'title': 'Die Großmeister-Challenge mit Matteo', 'viewer_count': 4793, 'started_at': '2024-02-19T14:46:10Z', 'language': 'de', 'thumbnail_url': 'https://static-cdn.jtvnw.net/previews-ttv/live_user_bonjwa-{width}x{height}.jpg', 'tag_ids': [], 'tags': ['Deutsch', 'Matteo', 'Leon', 'Redpanda', 'Honor', 'Niklas', 'Maurice', 'hamu'], 'is_mature': False}, {'id': '40465810165', 'user_id': '50795214', 'user_login': 'sardoche', 'user_name': 'Sardoche', 'game_id': '21779', 'game_name': 'League of Legends', 'type': 'live', 'title': \"La theorie de l'emo - Jour 1\", 'viewer_count': 4788, 'started_at': '2024-02-19T10:22:09Z', 'language': 'fr', 'thumbnail_url': 'https://static-cdn.jtvnw.net/previews-ttv/live_user_sardoche-{width}x{height}.jpg', 'tag_ids': [], 'tags': ['Français', 'Speedrun', 'ModeDifficile', 'Boxing'], 'is_mature': False}, {'id': '40465183093', 'user_id': '40784764', 'user_login': 'shlorox', 'user_name': 'Shlorox', 'game_id': '509658', 'game_name': 'Just Chatting', 'type': 'live', 'title': '24h+ Subathon', 'viewer_count': 4768, 'started_at': '2024-02-19T02:44:44Z', 'language': 'de', 'thumbnail_url': 'https://static-cdn.jtvnw.net/previews-ttv/live_user_shlorox-{width}x{height}.jpg', 'tag_ids': [], 'tags': ['Deutsch'], 'is_mature': False}, {'id': '50442051117', 'user_id': '143726713', 'user_login': 'sweetdreams', 'user_name': 'sweetdreams', 'game_id': '511224', 'game_name': 'Apex Legends', 'type': 'live', 'title': 'Season 20 Scrims with LG. ALGS on 3/3', 'viewer_count': 4729, 'started_at': '2024-02-19T22:34:57Z', 'language': 'en', 'thumbnail_url': 'https://static-cdn.jtvnw.net/previews-ttv/live_user_sweetdreams-{width}x{height}.jpg', 'tag_ids': [], 'tags': ['English', 'GoingInsane', 'Help', 'mentallyunstable', 'DropsEnabled'], 'is_mature': False}, {'id': '43654235019', 'user_id': '40541068', 'user_login': 'methodz', 'user_name': 'Methodz', 'game_id': '1337444628', 'game_name': 'Call of Duty: Modern Warfare III', 'type': 'live', 'title': '[15-1] TOP 150 RANKED', 'viewer_count': 4437, 'started_at': '2024-02-19T19:55:32Z', 'language': 'en', 'thumbnail_url': 'https://static-cdn.jtvnw.net/previews-ttv/live_user_methodz-{width}x{height}.jpg', 'tag_ids': [], 'tags': ['cdl', 'cod', 'OpTic', 'methodz', 'English'], 'is_mature': False}, {'id': '50440169229', 'user_id': '138094916', 'user_login': 'sinatraa', 'user_name': 'sinatraa', 'game_id': '516575', 'game_name': 'VALORANT', 'type': 'live', 'title': 'FURIA vs MIBR', 'viewer_count': 4406, 'started_at': '2024-02-19T18:09:33Z', 'language': 'en', 'thumbnail_url': 'https://static-cdn.jtvnw.net/previews-ttv/live_user_sinatraa-{width}x{height}.jpg', 'tag_ids': [], 'tags': ['English'], 'is_mature': False}], 'pagination': {'cursor': 'eyJiIjp7IkN1cnNvciI6ImV5SnpJam8wT0RBM01TNHhNelkzTnpNM01UVTVPU3dpWkNJNlptRnNjMlVzSW5RaU9uUnlkV1Y5In0sImEiOnsiQ3Vyc29yIjoiZXlKeklqbzBOamswTGpNeE16UXpPREk1T0RBNE15d2laQ0k2Wm1Gc2MyVXNJblFpT25SeWRXVjkifX0'}}\n"
     ]
    }
   ],
   "source": [
    "print(response.text)\n",
    "response_json = json.loads(response.text)\n",
    "print(response_json)"
   ]
  },
  {
   "cell_type": "code",
   "execution_count": 6,
   "metadata": {},
   "outputs": [],
   "source": [
    "data = response_json['data']\n",
    "\n",
    "df = pd.DataFrame.from_dict(json_normalize(data), orient='columns')"
   ]
  },
  {
   "cell_type": "code",
   "execution_count": 7,
   "metadata": {},
   "outputs": [
    {
     "data": {
      "text/html": [
       "<div>\n",
       "<style scoped>\n",
       "    .dataframe tbody tr th:only-of-type {\n",
       "        vertical-align: middle;\n",
       "    }\n",
       "\n",
       "    .dataframe tbody tr th {\n",
       "        vertical-align: top;\n",
       "    }\n",
       "\n",
       "    .dataframe thead th {\n",
       "        text-align: right;\n",
       "    }\n",
       "</style>\n",
       "<table border=\"1\" class=\"dataframe\">\n",
       "  <thead>\n",
       "    <tr style=\"text-align: right;\">\n",
       "      <th></th>\n",
       "      <th>id</th>\n",
       "      <th>user_id</th>\n",
       "      <th>user_login</th>\n",
       "      <th>user_name</th>\n",
       "      <th>game_id</th>\n",
       "      <th>game_name</th>\n",
       "      <th>type</th>\n",
       "      <th>title</th>\n",
       "      <th>viewer_count</th>\n",
       "      <th>started_at</th>\n",
       "      <th>language</th>\n",
       "      <th>thumbnail_url</th>\n",
       "      <th>tag_ids</th>\n",
       "      <th>tags</th>\n",
       "      <th>is_mature</th>\n",
       "    </tr>\n",
       "  </thead>\n",
       "  <tbody>\n",
       "    <tr>\n",
       "      <th>0</th>\n",
       "      <td>41908496216</td>\n",
       "      <td>90075649</td>\n",
       "      <td>illojuan</td>\n",
       "      <td>IlloJuan</td>\n",
       "      <td>509658</td>\n",
       "      <td>Just Chatting</td>\n",
       "      <td>live</td>\n",
       "      <td>EL CABRÓN 🐐 GRACIAS ❤️</td>\n",
       "      <td>48071</td>\n",
       "      <td>2024-02-19T20:22:35Z</td>\n",
       "      <td>es</td>\n",
       "      <td>https://static-cdn.jtvnw.net/previews-ttv/live...</td>\n",
       "      <td>[]</td>\n",
       "      <td>[Español]</td>\n",
       "      <td>False</td>\n",
       "    </tr>\n",
       "    <tr>\n",
       "      <th>1</th>\n",
       "      <td>42328762985</td>\n",
       "      <td>65171890</td>\n",
       "      <td>rainbow6</td>\n",
       "      <td>Rainbow6</td>\n",
       "      <td>460630</td>\n",
       "      <td>Tom Clancy's Rainbow Six Siege</td>\n",
       "      <td>live</td>\n",
       "      <td>Six Invitational 2024 - Playoffs Day 1 - Space...</td>\n",
       "      <td>42103</td>\n",
       "      <td>2024-02-19T15:58:23Z</td>\n",
       "      <td>en</td>\n",
       "      <td>https://static-cdn.jtvnw.net/previews-ttv/live...</td>\n",
       "      <td>[]</td>\n",
       "      <td>[English, Esports, ubisoft, R6S, rainbowsixsie...</td>\n",
       "      <td>True</td>\n",
       "    </tr>\n",
       "    <tr>\n",
       "      <th>2</th>\n",
       "      <td>42328153705</td>\n",
       "      <td>181077473</td>\n",
       "      <td>gaules</td>\n",
       "      <td>Gaules</td>\n",
       "      <td>32399</td>\n",
       "      <td>Counter-Strike</td>\n",
       "      <td>live</td>\n",
       "      <td>O Plano vs SALAO DO CORTE IEM Dallas 2024 Sout...</td>\n",
       "      <td>36384</td>\n",
       "      <td>2024-02-19T10:37:16Z</td>\n",
       "      <td>pt</td>\n",
       "      <td>https://static-cdn.jtvnw.net/previews-ttv/live...</td>\n",
       "      <td>[]</td>\n",
       "      <td>[Português, fps, brasil, brazil, Portugues, co...</td>\n",
       "      <td>True</td>\n",
       "    </tr>\n",
       "    <tr>\n",
       "      <th>3</th>\n",
       "      <td>43655036843</td>\n",
       "      <td>36340781</td>\n",
       "      <td>tarik</td>\n",
       "      <td>tarik</td>\n",
       "      <td>516575</td>\n",
       "      <td>VALORANT</td>\n",
       "      <td>live</td>\n",
       "      <td>MIBR vs FURIA - VCT 2024: Americas Kickoff - T...</td>\n",
       "      <td>35292</td>\n",
       "      <td>2024-02-19T21:51:31Z</td>\n",
       "      <td>en</td>\n",
       "      <td>https://static-cdn.jtvnw.net/previews-ttv/live...</td>\n",
       "      <td>[]</td>\n",
       "      <td>[English]</td>\n",
       "      <td>False</td>\n",
       "    </tr>\n",
       "    <tr>\n",
       "      <th>4</th>\n",
       "      <td>50441180477</td>\n",
       "      <td>94753024</td>\n",
       "      <td>mizkif</td>\n",
       "      <td>Mizkif</td>\n",
       "      <td>509658</td>\n",
       "      <td>Just Chatting</td>\n",
       "      <td>live</td>\n",
       "      <td>GOING TO COMPETTING GYMS TO BRING IN NEW CUSTO...</td>\n",
       "      <td>29354</td>\n",
       "      <td>2024-02-19T20:53:08Z</td>\n",
       "      <td>en</td>\n",
       "      <td>https://static-cdn.jtvnw.net/previews-ttv/live...</td>\n",
       "      <td>[]</td>\n",
       "      <td>[ADHD, Osteoporosis, OTK, STARFORGE, STEROIDS,...</td>\n",
       "      <td>False</td>\n",
       "    </tr>\n",
       "  </tbody>\n",
       "</table>\n",
       "</div>"
      ],
      "text/plain": [
       "            id    user_id user_login user_name game_id  \\\n",
       "0  41908496216   90075649   illojuan  IlloJuan  509658   \n",
       "1  42328762985   65171890   rainbow6  Rainbow6  460630   \n",
       "2  42328153705  181077473     gaules    Gaules   32399   \n",
       "3  43655036843   36340781      tarik     tarik  516575   \n",
       "4  50441180477   94753024     mizkif    Mizkif  509658   \n",
       "\n",
       "                        game_name  type  \\\n",
       "0                   Just Chatting  live   \n",
       "1  Tom Clancy's Rainbow Six Siege  live   \n",
       "2                  Counter-Strike  live   \n",
       "3                        VALORANT  live   \n",
       "4                   Just Chatting  live   \n",
       "\n",
       "                                               title  viewer_count  \\\n",
       "0                             EL CABRÓN 🐐 GRACIAS ❤️         48071   \n",
       "1  Six Invitational 2024 - Playoffs Day 1 - Space...         42103   \n",
       "2  O Plano vs SALAO DO CORTE IEM Dallas 2024 Sout...         36384   \n",
       "3  MIBR vs FURIA - VCT 2024: Americas Kickoff - T...         35292   \n",
       "4  GOING TO COMPETTING GYMS TO BRING IN NEW CUSTO...         29354   \n",
       "\n",
       "             started_at language  \\\n",
       "0  2024-02-19T20:22:35Z       es   \n",
       "1  2024-02-19T15:58:23Z       en   \n",
       "2  2024-02-19T10:37:16Z       pt   \n",
       "3  2024-02-19T21:51:31Z       en   \n",
       "4  2024-02-19T20:53:08Z       en   \n",
       "\n",
       "                                       thumbnail_url tag_ids  \\\n",
       "0  https://static-cdn.jtvnw.net/previews-ttv/live...      []   \n",
       "1  https://static-cdn.jtvnw.net/previews-ttv/live...      []   \n",
       "2  https://static-cdn.jtvnw.net/previews-ttv/live...      []   \n",
       "3  https://static-cdn.jtvnw.net/previews-ttv/live...      []   \n",
       "4  https://static-cdn.jtvnw.net/previews-ttv/live...      []   \n",
       "\n",
       "                                                tags  is_mature  \n",
       "0                                          [Español]      False  \n",
       "1  [English, Esports, ubisoft, R6S, rainbowsixsie...       True  \n",
       "2  [Português, fps, brasil, brazil, Portugues, co...       True  \n",
       "3                                          [English]      False  \n",
       "4  [ADHD, Osteoporosis, OTK, STARFORGE, STEROIDS,...      False  "
      ]
     },
     "execution_count": 7,
     "metadata": {},
     "output_type": "execute_result"
    }
   ],
   "source": [
    "df.head()"
   ]
  },
  {
   "cell_type": "markdown",
   "metadata": {},
   "source": [
    "### Creating a CSV for Stream data"
   ]
  },
  {
   "cell_type": "code",
   "execution_count": 8,
   "metadata": {},
   "outputs": [],
   "source": [
    "export_csv = df.to_csv (r'D:/UTD/Notebooks/Twitch/first.csv', index = None, header=True) #Don't forget to add '.csv' at the end of the path\n",
    "\n",
    "\n",
    "# Saved to local directory:/Users/kaivalya/Twitch/ as first.csv"
   ]
  },
  {
   "cell_type": "markdown",
   "metadata": {},
   "source": [
    "## Accessing Game data \n",
    "\n",
    "### Making a list of all games in the top 100 streams"
   ]
  },
  {
   "cell_type": "code",
   "execution_count": 9,
   "metadata": {},
   "outputs": [],
   "source": [
    "game_ids = list(df['game_id'])\n",
    "game_ids = '&id='.join(game_ids)"
   ]
  },
  {
   "cell_type": "code",
   "execution_count": 10,
   "metadata": {},
   "outputs": [
    {
     "data": {
      "text/plain": [
       "'509658&id=460630&id=32399&id=516575&id=509658&id=940188387&id=509658&id=509658&id=516575&id=509658&id=32982&id=21779&id=32982&id=32982&id=502732&id=737987407&id=1952699919&id=509658&id=32982&id=18846&id=21779&id=33214&id=766571430&id=516575&id=516575&id=516575&id=1281851716&id=32982&id=21779&id=32982&id=516575&id=509658&id=32982&id=21779&id=32399&id=509658&id=27471&id=516575&id=516575&id=21842902&id=745589378&id=512980&id=491931&id=32982&id=491931&id=116747788&id=32982&id=143106037&id=511224&id=1952699919&id=516575&id=516575&id=32982&id=29595&id=26936&id=538054672&id=460630&id=509658&id=32982&id=516575&id=2091165871&id=493057&id=516575&id=95777581&id=512710&id=32982&id=766571430&id=323323854&id=509658&id=21779&id=209738946&id=33214&id=32982&id=491487&id=460630&id=209738946&id=27546&id=460630&id=509658&id=513143&id=21779&id=509658&id=509658&id=32982&id=33214&id=493887283&id=27471&id=18846&id=27471&id=516575&id=1952699919&id=21779&id=509658&id=511224&id=1337444628&id=516575'"
      ]
     },
     "execution_count": 10,
     "metadata": {},
     "output_type": "execute_result"
    }
   ],
   "source": [
    "game_ids"
   ]
  },
  {
   "cell_type": "markdown",
   "metadata": {},
   "source": [
    "### Passing the list of 100 games to get the game's name from its ID"
   ]
  },
  {
   "cell_type": "code",
   "execution_count": 11,
   "metadata": {},
   "outputs": [],
   "source": [
    "headers = {\n",
    "    'Authorization' : 'Bearer '+str(access_token),\n",
    "    'Client-ID': client_id,\n",
    "}\n",
    "response_games = requests.get('https://api.twitch.tv/helix/games?id='+game_ids, headers=headers)\n",
    "\n",
    "response_games_json = json.loads(response_games.text)"
   ]
  },
  {
   "cell_type": "markdown",
   "metadata": {},
   "source": [
    "### Converting game data json into a dataframe"
   ]
  },
  {
   "cell_type": "code",
   "execution_count": 12,
   "metadata": {},
   "outputs": [
    {
     "data": {
      "text/html": [
       "<div>\n",
       "<style scoped>\n",
       "    .dataframe tbody tr th:only-of-type {\n",
       "        vertical-align: middle;\n",
       "    }\n",
       "\n",
       "    .dataframe tbody tr th {\n",
       "        vertical-align: top;\n",
       "    }\n",
       "\n",
       "    .dataframe thead th {\n",
       "        text-align: right;\n",
       "    }\n",
       "</style>\n",
       "<table border=\"1\" class=\"dataframe\">\n",
       "  <thead>\n",
       "    <tr style=\"text-align: right;\">\n",
       "      <th></th>\n",
       "      <th>id</th>\n",
       "      <th>name</th>\n",
       "      <th>box_art_url</th>\n",
       "      <th>igdb_id</th>\n",
       "    </tr>\n",
       "  </thead>\n",
       "  <tbody>\n",
       "    <tr>\n",
       "      <th>0</th>\n",
       "      <td>26936</td>\n",
       "      <td>Music</td>\n",
       "      <td>https://static-cdn.jtvnw.net/ttv-boxart/26936-...</td>\n",
       "      <td></td>\n",
       "    </tr>\n",
       "    <tr>\n",
       "      <th>1</th>\n",
       "      <td>33214</td>\n",
       "      <td>Fortnite</td>\n",
       "      <td>https://static-cdn.jtvnw.net/ttv-boxart/33214-...</td>\n",
       "      <td>1905</td>\n",
       "    </tr>\n",
       "    <tr>\n",
       "      <th>2</th>\n",
       "      <td>511224</td>\n",
       "      <td>Apex Legends</td>\n",
       "      <td>https://static-cdn.jtvnw.net/ttv-boxart/511224...</td>\n",
       "      <td>114795</td>\n",
       "    </tr>\n",
       "    <tr>\n",
       "      <th>3</th>\n",
       "      <td>116747788</td>\n",
       "      <td>Pools, Hot Tubs, and Beaches</td>\n",
       "      <td>https://static-cdn.jtvnw.net/ttv-boxart/116747...</td>\n",
       "      <td></td>\n",
       "    </tr>\n",
       "    <tr>\n",
       "      <th>4</th>\n",
       "      <td>209738946</td>\n",
       "      <td>Wuthering Waves</td>\n",
       "      <td>https://static-cdn.jtvnw.net/ttv-boxart/209738...</td>\n",
       "      <td>202956</td>\n",
       "    </tr>\n",
       "  </tbody>\n",
       "</table>\n",
       "</div>"
      ],
      "text/plain": [
       "          id                          name  \\\n",
       "0      26936                         Music   \n",
       "1      33214                      Fortnite   \n",
       "2     511224                  Apex Legends   \n",
       "3  116747788  Pools, Hot Tubs, and Beaches   \n",
       "4  209738946               Wuthering Waves   \n",
       "\n",
       "                                         box_art_url igdb_id  \n",
       "0  https://static-cdn.jtvnw.net/ttv-boxart/26936-...          \n",
       "1  https://static-cdn.jtvnw.net/ttv-boxart/33214-...    1905  \n",
       "2  https://static-cdn.jtvnw.net/ttv-boxart/511224...  114795  \n",
       "3  https://static-cdn.jtvnw.net/ttv-boxart/116747...          \n",
       "4  https://static-cdn.jtvnw.net/ttv-boxart/209738...  202956  "
      ]
     },
     "execution_count": 12,
     "metadata": {},
     "output_type": "execute_result"
    }
   ],
   "source": [
    "data_games = response_games_json['data']\n",
    "\n",
    "games_df = pd.DataFrame.from_dict(json_normalize(data_games), orient='columns')\n",
    "games_df.head()"
   ]
  },
  {
   "cell_type": "markdown",
   "metadata": {},
   "source": [
    "### Converting the df into a csv to explore in Tableau"
   ]
  },
  {
   "cell_type": "code",
   "execution_count": 13,
   "metadata": {},
   "outputs": [],
   "source": [
    "export_games_csv = games_df.to_csv (r'D:/UTD/Notebooks/Twitch/first_games.csv', index = None, header=True) #Don't forget to add '.csv' at the end of the path\n",
    "\n",
    "# Saved in local directory: /Users/kaivalya/Twitch/ as first_games.csv"
   ]
  },
  {
   "cell_type": "markdown",
   "metadata": {},
   "source": [
    "### repeatable code"
   ]
  },
  {
   "cell_type": "code",
   "execution_count": 156,
   "metadata": {},
   "outputs": [],
   "source": [
    "\n",
    "def twitch():\n",
    "    threading.Timer(60.0, twitch).start()\n",
    "    \n",
    "    headers = {\n",
    "        'Authorization' : 'Bearer '+str(access_token),\n",
    "        'Client-ID': client_id,\n",
    "    }\n",
    "    response = requests.get('https://api.twitch.tv/helix/streams?first=100', headers=headers)\n",
    "\n",
    "    response_json = json.loads(response.text)\n",
    "    data = response_json['data']\n",
    "    df = pd.DataFrame.from_dict(json_normalize(data), orient='columns')\n",
    "    export_csv = df.to_csv (r'D:/UTD/Notebooks/Twitch/first.csv', index = None, header=True)\n",
    "    \n",
    "    game_ids = list(df['game_id'])\n",
    "    game_ids = '&id='.join(game_ids)\n",
    "\n",
    "    headers = {\n",
    "        'Authorization' : 'Bearer '+str(access_token),\n",
    "        'Client-ID': client_id,\n",
    "    }\n",
    "    response_games = requests.get('https://api.twitch.tv/helix/games?id='+game_ids, headers=headers)\n",
    "\n",
    "    #print(response_games.text)\n",
    "    response_games_json = json.loads(response_games.text)\n",
    "    data_games = response_games_json['data']\n",
    "    games_df = pd.DataFrame.from_dict(json_normalize(data_games), orient='columns')\n",
    "    export_games_csv = games_df.to_csv (r'D:/UTD/Notebooks/Twitch/first_games.csv', index = None, header=True)\n",
    "\n",
    "twitch()"
   ]
  },
  {
   "cell_type": "markdown",
   "metadata": {},
   "source": [
    "## Exploring other APIs"
   ]
  },
  {
   "cell_type": "markdown",
   "metadata": {},
   "source": [
    "### Getting Streamers information"
   ]
  },
  {
   "cell_type": "code",
   "execution_count": 14,
   "metadata": {},
   "outputs": [
    {
     "data": {
      "text/plain": [
       "'90075649&id=65171890&id=181077473&id=36340781&id=94753024&id=52130765&id=77827128&id=552120296&id=598903130&id=207813352&id=531177917&id=51496027&id=163836275&id=109492660&id=59799994&id=12875057&id=23161357&id=198633200&id=155601320&id=27115917&id=85397463&id=233300375&id=23735582&id=96116107&id=499928989&id=502014446&id=26301881&id=431146848&id=140772558&id=267635380&id=128002336&id=79769388&id=95873995&id=87183799&id=1039034874&id=106820088&id=3389768&id=128775333&id=135468063&id=38244180&id=28575692&id=111799555&id=427632467&id=38746172&id=26490481&id=935309911&id=121510236&id=1895664&id=123182260&id=40972890&id=430023505&id=47119647&id=122808988&id=40488774&id=262319971&id=90222258&id=68727743&id=821717189&id=13884994&id=66418614&id=40063341&id=39154501&id=75891532&id=53065331&id=120244187&id=173066877&id=128440061&id=26921830&id=43548655&id=24991333&id=100901794&id=272748387&id=41875213&id=61812950&id=132106826&id=152633332&id=30623831&id=246244003&id=246450563&id=60672785&id=598495509&id=121329766&id=35958947&id=790173918&id=494543675&id=1039372233&id=569342750&id=9528182&id=38121996&id=143776262&id=73437396&id=50795214&id=40784764&id=143726713&id=40541068&id=138094916'"
      ]
     },
     "execution_count": 14,
     "metadata": {},
     "output_type": "execute_result"
    }
   ],
   "source": [
    "user_ids = list(df['user_id'])\n",
    "user_ids = '&id='.join(user_ids)\n",
    "user_ids"
   ]
  },
  {
   "cell_type": "code",
   "execution_count": 15,
   "metadata": {},
   "outputs": [],
   "source": [
    "headers = {\n",
    "    'Authorization': 'Bearer '+str(access_token),\n",
    "    'Client-ID': client_id,\n",
    "}\n",
    "response_user_ids = requests.get('https://api.twitch.tv/helix/users?id='+user_ids, headers=headers)"
   ]
  },
  {
   "cell_type": "code",
   "execution_count": 16,
   "metadata": {},
   "outputs": [
    {
     "data": {
      "text/html": [
       "<div>\n",
       "<style scoped>\n",
       "    .dataframe tbody tr th:only-of-type {\n",
       "        vertical-align: middle;\n",
       "    }\n",
       "\n",
       "    .dataframe tbody tr th {\n",
       "        vertical-align: top;\n",
       "    }\n",
       "\n",
       "    .dataframe thead th {\n",
       "        text-align: right;\n",
       "    }\n",
       "</style>\n",
       "<table border=\"1\" class=\"dataframe\">\n",
       "  <thead>\n",
       "    <tr style=\"text-align: right;\">\n",
       "      <th></th>\n",
       "      <th>id</th>\n",
       "      <th>login</th>\n",
       "      <th>display_name</th>\n",
       "      <th>type</th>\n",
       "      <th>broadcaster_type</th>\n",
       "      <th>description</th>\n",
       "      <th>profile_image_url</th>\n",
       "      <th>offline_image_url</th>\n",
       "      <th>view_count</th>\n",
       "      <th>created_at</th>\n",
       "    </tr>\n",
       "  </thead>\n",
       "  <tbody>\n",
       "    <tr>\n",
       "      <th>0</th>\n",
       "      <td>65171890</td>\n",
       "      <td>rainbow6</td>\n",
       "      <td>Rainbow6</td>\n",
       "      <td></td>\n",
       "      <td>partner</td>\n",
       "      <td>Rainbow Six Esports official broadcast for glo...</td>\n",
       "      <td>https://static-cdn.jtvnw.net/jtv_user_pictures...</td>\n",
       "      <td>https://static-cdn.jtvnw.net/jtv_user_pictures...</td>\n",
       "      <td>0</td>\n",
       "      <td>2014-06-27T13:51:55Z</td>\n",
       "    </tr>\n",
       "    <tr>\n",
       "      <th>1</th>\n",
       "      <td>181077473</td>\n",
       "      <td>gaules</td>\n",
       "      <td>Gaules</td>\n",
       "      <td></td>\n",
       "      <td>partner</td>\n",
       "      <td>Mais um guerreiro da Maior Tribo do Mundo! Atu...</td>\n",
       "      <td>https://static-cdn.jtvnw.net/jtv_user_pictures...</td>\n",
       "      <td>https://static-cdn.jtvnw.net/jtv_user_pictures...</td>\n",
       "      <td>0</td>\n",
       "      <td>2017-11-09T14:10:52Z</td>\n",
       "    </tr>\n",
       "    <tr>\n",
       "      <th>2</th>\n",
       "      <td>36340781</td>\n",
       "      <td>tarik</td>\n",
       "      <td>tarik</td>\n",
       "      <td></td>\n",
       "      <td>partner</td>\n",
       "      <td>ayo.</td>\n",
       "      <td>https://static-cdn.jtvnw.net/jtv_user_pictures...</td>\n",
       "      <td>https://static-cdn.jtvnw.net/jtv_user_pictures...</td>\n",
       "      <td>0</td>\n",
       "      <td>2012-09-21T20:43:25Z</td>\n",
       "    </tr>\n",
       "    <tr>\n",
       "      <th>3</th>\n",
       "      <td>94753024</td>\n",
       "      <td>mizkif</td>\n",
       "      <td>Mizkif</td>\n",
       "      <td></td>\n",
       "      <td>partner</td>\n",
       "      <td>I stream every Monday, Wednesday, Friday, And ...</td>\n",
       "      <td>https://static-cdn.jtvnw.net/jtv_user_pictures...</td>\n",
       "      <td>https://static-cdn.jtvnw.net/jtv_user_pictures...</td>\n",
       "      <td>0</td>\n",
       "      <td>2015-06-28T22:35:16Z</td>\n",
       "    </tr>\n",
       "    <tr>\n",
       "      <th>4</th>\n",
       "      <td>52130765</td>\n",
       "      <td>squeezie</td>\n",
       "      <td>Squeezie</td>\n",
       "      <td></td>\n",
       "      <td>partner</td>\n",
       "      <td>ça live chaque mercredi de 20h à 00h</td>\n",
       "      <td>https://static-cdn.jtvnw.net/jtv_user_pictures...</td>\n",
       "      <td>https://static-cdn.jtvnw.net/jtv_user_pictures...</td>\n",
       "      <td>0</td>\n",
       "      <td>2013-11-24T21:40:16Z</td>\n",
       "    </tr>\n",
       "  </tbody>\n",
       "</table>\n",
       "</div>"
      ],
      "text/plain": [
       "          id     login display_name type broadcaster_type  \\\n",
       "0   65171890  rainbow6     Rainbow6               partner   \n",
       "1  181077473    gaules       Gaules               partner   \n",
       "2   36340781     tarik        tarik               partner   \n",
       "3   94753024    mizkif       Mizkif               partner   \n",
       "4   52130765  squeezie     Squeezie               partner   \n",
       "\n",
       "                                         description  \\\n",
       "0  Rainbow Six Esports official broadcast for glo...   \n",
       "1  Mais um guerreiro da Maior Tribo do Mundo! Atu...   \n",
       "2                                               ayo.   \n",
       "3  I stream every Monday, Wednesday, Friday, And ...   \n",
       "4              ça live chaque mercredi de 20h à 00h    \n",
       "\n",
       "                                   profile_image_url  \\\n",
       "0  https://static-cdn.jtvnw.net/jtv_user_pictures...   \n",
       "1  https://static-cdn.jtvnw.net/jtv_user_pictures...   \n",
       "2  https://static-cdn.jtvnw.net/jtv_user_pictures...   \n",
       "3  https://static-cdn.jtvnw.net/jtv_user_pictures...   \n",
       "4  https://static-cdn.jtvnw.net/jtv_user_pictures...   \n",
       "\n",
       "                                   offline_image_url  view_count  \\\n",
       "0  https://static-cdn.jtvnw.net/jtv_user_pictures...           0   \n",
       "1  https://static-cdn.jtvnw.net/jtv_user_pictures...           0   \n",
       "2  https://static-cdn.jtvnw.net/jtv_user_pictures...           0   \n",
       "3  https://static-cdn.jtvnw.net/jtv_user_pictures...           0   \n",
       "4  https://static-cdn.jtvnw.net/jtv_user_pictures...           0   \n",
       "\n",
       "             created_at  \n",
       "0  2014-06-27T13:51:55Z  \n",
       "1  2017-11-09T14:10:52Z  \n",
       "2  2012-09-21T20:43:25Z  \n",
       "3  2015-06-28T22:35:16Z  \n",
       "4  2013-11-24T21:40:16Z  "
      ]
     },
     "execution_count": 16,
     "metadata": {},
     "output_type": "execute_result"
    }
   ],
   "source": [
    "response_user_json = json.loads(response_user_ids.text)\n",
    "data_user = response_user_json['data']\n",
    "users_df = pd.DataFrame.from_dict(json_normalize(data_user), orient='columns')\n",
    "\n",
    "users_df.head()"
   ]
  },
  {
   "cell_type": "code",
   "execution_count": 17,
   "metadata": {},
   "outputs": [
    {
     "data": {
      "text/plain": [
       "broadcaster_type\n",
       "partner      92\n",
       "              2\n",
       "affiliate     1\n",
       "Name: count, dtype: int64"
      ]
     },
     "execution_count": 17,
     "metadata": {},
     "output_type": "execute_result"
    }
   ],
   "source": [
    "users_df['broadcaster_type'].value_counts()"
   ]
  },
  {
   "cell_type": "markdown",
   "metadata": {},
   "source": [
    "## pagination & game data"
   ]
  },
  {
   "cell_type": "code",
   "execution_count": 18,
   "metadata": {},
   "outputs": [],
   "source": [
    "headers = {\n",
    "    'Authorization' : 'Bearer '+str(access_token),\n",
    "    'Client-ID': client_id,\n",
    "}\n",
    "games_response = requests.get('https://api.twitch.tv/helix/games/top?first=100', headers=headers)"
   ]
  },
  {
   "cell_type": "code",
   "execution_count": 19,
   "metadata": {},
   "outputs": [
    {
     "name": "stdout",
     "output_type": "stream",
     "text": [
      "<class 'pandas.core.frame.DataFrame'>\n",
      "RangeIndex: 100 entries, 0 to 99\n",
      "Data columns (total 4 columns):\n",
      " #   Column       Non-Null Count  Dtype \n",
      "---  ------       --------------  ----- \n",
      " 0   id           100 non-null    object\n",
      " 1   name         100 non-null    object\n",
      " 2   box_art_url  100 non-null    object\n",
      " 3   igdb_id      100 non-null    object\n",
      "dtypes: object(4)\n",
      "memory usage: 3.3+ KB\n"
     ]
    }
   ],
   "source": [
    "#print(response.text)\n",
    "games_response_json = json.loads(games_response.text)\n",
    "\n",
    "topgames_data = games_response_json['data']\n",
    "\n",
    "topgames_df = pd.DataFrame.from_dict(json_normalize(topgames_data), orient='columns')\n",
    "topgames_df.info()"
   ]
  },
  {
   "cell_type": "code",
   "execution_count": 20,
   "metadata": {},
   "outputs": [
    {
     "data": {
      "text/html": [
       "<div>\n",
       "<style scoped>\n",
       "    .dataframe tbody tr th:only-of-type {\n",
       "        vertical-align: middle;\n",
       "    }\n",
       "\n",
       "    .dataframe tbody tr th {\n",
       "        vertical-align: top;\n",
       "    }\n",
       "\n",
       "    .dataframe thead th {\n",
       "        text-align: right;\n",
       "    }\n",
       "</style>\n",
       "<table border=\"1\" class=\"dataframe\">\n",
       "  <thead>\n",
       "    <tr style=\"text-align: right;\">\n",
       "      <th></th>\n",
       "      <th>id</th>\n",
       "      <th>name</th>\n",
       "      <th>box_art_url</th>\n",
       "      <th>igdb_id</th>\n",
       "    </tr>\n",
       "  </thead>\n",
       "  <tbody>\n",
       "    <tr>\n",
       "      <th>0</th>\n",
       "      <td>509658</td>\n",
       "      <td>Just Chatting</td>\n",
       "      <td>https://static-cdn.jtvnw.net/ttv-boxart/509658...</td>\n",
       "      <td></td>\n",
       "    </tr>\n",
       "    <tr>\n",
       "      <th>1</th>\n",
       "      <td>32982</td>\n",
       "      <td>Grand Theft Auto V</td>\n",
       "      <td>https://static-cdn.jtvnw.net/ttv-boxart/32982_...</td>\n",
       "      <td>1020</td>\n",
       "    </tr>\n",
       "    <tr>\n",
       "      <th>2</th>\n",
       "      <td>516575</td>\n",
       "      <td>VALORANT</td>\n",
       "      <td>https://static-cdn.jtvnw.net/ttv-boxart/516575...</td>\n",
       "      <td>126459</td>\n",
       "    </tr>\n",
       "    <tr>\n",
       "      <th>3</th>\n",
       "      <td>21779</td>\n",
       "      <td>League of Legends</td>\n",
       "      <td>https://static-cdn.jtvnw.net/ttv-boxart/21779-...</td>\n",
       "      <td>115</td>\n",
       "    </tr>\n",
       "    <tr>\n",
       "      <th>4</th>\n",
       "      <td>32399</td>\n",
       "      <td>Counter-Strike</td>\n",
       "      <td>https://static-cdn.jtvnw.net/ttv-boxart/32399-...</td>\n",
       "      <td></td>\n",
       "    </tr>\n",
       "  </tbody>\n",
       "</table>\n",
       "</div>"
      ],
      "text/plain": [
       "       id                name  \\\n",
       "0  509658       Just Chatting   \n",
       "1   32982  Grand Theft Auto V   \n",
       "2  516575            VALORANT   \n",
       "3   21779   League of Legends   \n",
       "4   32399      Counter-Strike   \n",
       "\n",
       "                                         box_art_url igdb_id  \n",
       "0  https://static-cdn.jtvnw.net/ttv-boxart/509658...          \n",
       "1  https://static-cdn.jtvnw.net/ttv-boxart/32982_...    1020  \n",
       "2  https://static-cdn.jtvnw.net/ttv-boxart/516575...  126459  \n",
       "3  https://static-cdn.jtvnw.net/ttv-boxart/21779-...     115  \n",
       "4  https://static-cdn.jtvnw.net/ttv-boxart/32399-...          "
      ]
     },
     "execution_count": 20,
     "metadata": {},
     "output_type": "execute_result"
    }
   ],
   "source": [
    "topgames_df.head()"
   ]
  },
  {
   "cell_type": "code",
   "execution_count": 21,
   "metadata": {},
   "outputs": [
    {
     "name": "stdout",
     "output_type": "stream",
     "text": [
      "eyJzIjoxMDAsImQiOmZhbHNlLCJ0Ijp0cnVlfQ==\n",
      "{'cursor': 'eyJzIjoxMDAsImQiOmZhbHNlLCJ0Ijp0cnVlfQ=='}\n"
     ]
    },
    {
     "data": {
      "text/plain": [
       "'eyJzIjoxMDAsImQiOmZhbHNlLCJ0Ijp0cnVlfQ=='"
      ]
     },
     "execution_count": 21,
     "metadata": {},
     "output_type": "execute_result"
    }
   ],
   "source": [
    "topgames_data = games_response_json['pagination']\n",
    "pagination= topgames_data['cursor']\n",
    "print(pagination)\n",
    "print(topgames_data)\n",
    "str(pagination)"
   ]
  },
  {
   "cell_type": "code",
   "execution_count": 22,
   "metadata": {},
   "outputs": [
    {
     "name": "stdout",
     "output_type": "stream",
     "text": [
      "eyJzIjoxMDAsImQiOmZhbHNlLCJ0Ijp0cnVlfQ==\n",
      "{'cursor': 'eyJzIjoxMDAsImQiOmZhbHNlLCJ0Ijp0cnVlfQ=='}\n"
     ]
    }
   ],
   "source": [
    "topgames_data = games_response_json['pagination']\n",
    "pagination= topgames_data['cursor']\n",
    "print(pagination)\n",
    "print(topgames_data)\n",
    "str(pagination)\n",
    "\n",
    "headers = {\n",
    "    'Authorization' : 'Bearer '+str(access_token),\n",
    "    'Client-ID': client_id,\n",
    "}\n",
    "games_response = requests.get('https://api.twitch.tv/helix/games/top?first=100&after='+str(pagination), headers=headers)"
   ]
  },
  {
   "cell_type": "code",
   "execution_count": 23,
   "metadata": {},
   "outputs": [
    {
     "name": "stdout",
     "output_type": "stream",
     "text": [
      "<class 'pandas.core.frame.DataFrame'>\n",
      "RangeIndex: 100 entries, 0 to 99\n",
      "Data columns (total 4 columns):\n",
      " #   Column       Non-Null Count  Dtype \n",
      "---  ------       --------------  ----- \n",
      " 0   id           100 non-null    object\n",
      " 1   name         100 non-null    object\n",
      " 2   box_art_url  100 non-null    object\n",
      " 3   igdb_id      100 non-null    object\n",
      "dtypes: object(4)\n",
      "memory usage: 3.3+ KB\n"
     ]
    }
   ],
   "source": [
    "#print(response.text)\n",
    "games_response_json = json.loads(games_response.text)\n",
    "\n",
    "topgames_data = games_response_json['data']\n",
    "topgames_df_temp = pd.DataFrame.from_dict(json_normalize(topgames_data), orient='columns')\n",
    "topgames_df_temp.info()"
   ]
  },
  {
   "cell_type": "code",
   "execution_count": 24,
   "metadata": {},
   "outputs": [
    {
     "name": "stdout",
     "output_type": "stream",
     "text": [
      "<Response [200]>\n"
     ]
    }
   ],
   "source": [
    "print(games_response)"
   ]
  },
  {
   "cell_type": "code",
   "execution_count": 25,
   "metadata": {},
   "outputs": [
    {
     "name": "stdout",
     "output_type": "stream",
     "text": [
      "<class 'pandas.core.frame.DataFrame'>\n",
      "RangeIndex: 200 entries, 0 to 199\n",
      "Data columns (total 4 columns):\n",
      " #   Column       Non-Null Count  Dtype \n",
      "---  ------       --------------  ----- \n",
      " 0   id           200 non-null    object\n",
      " 1   name         200 non-null    object\n",
      " 2   box_art_url  200 non-null    object\n",
      " 3   igdb_id      200 non-null    object\n",
      "dtypes: object(4)\n",
      "memory usage: 6.4+ KB\n"
     ]
    }
   ],
   "source": [
    "#topgames_df.append(topgames_df_temp, ignore_index=True, sort=False)\n",
    "frames = [topgames_df, topgames_df_temp]\n",
    "topgames_df = pd.concat(frames, ignore_index=True)\n",
    "topgames_df.info()"
   ]
  },
  {
   "cell_type": "code",
   "execution_count": 27,
   "metadata": {},
   "outputs": [],
   "source": [
    "export_topgames_csv = topgames_df.to_csv (r'D:/UTD/Notebooks/Twitch/topgames.csv', index = None, header=True)"
   ]
  },
  {
   "cell_type": "markdown",
   "metadata": {},
   "source": [
    "### getting stream data for the games"
   ]
  },
  {
   "cell_type": "code",
   "execution_count": 28,
   "metadata": {},
   "outputs": [
    {
     "data": {
      "text/plain": [
       "'509658'"
      ]
     },
     "execution_count": 28,
     "metadata": {},
     "output_type": "execute_result"
    }
   ],
   "source": [
    "topstreamsforgame_ids = topgames_df['id']\n",
    "topstreamsforgame_ids[0]"
   ]
  },
  {
   "cell_type": "code",
   "execution_count": 29,
   "metadata": {},
   "outputs": [],
   "source": [
    "headers = {\n",
    "    'Authorization' : 'Bearer '+str(access_token),\n",
    "    'Client-ID': client_id,\n",
    "}\n",
    "topstreamsforgame_response = requests.get('https://api.twitch.tv/helix/streams?game_id='+str(topgames_df['id'][0])+'&first=100', headers=headers)\n"
   ]
  },
  {
   "cell_type": "code",
   "execution_count": 30,
   "metadata": {},
   "outputs": [
    {
     "name": "stdout",
     "output_type": "stream",
     "text": [
      "<Response [200]>\n"
     ]
    }
   ],
   "source": [
    "print(topstreamsforgame_response)"
   ]
  },
  {
   "cell_type": "code",
   "execution_count": 31,
   "metadata": {},
   "outputs": [
    {
     "data": {
      "text/html": [
       "<div>\n",
       "<style scoped>\n",
       "    .dataframe tbody tr th:only-of-type {\n",
       "        vertical-align: middle;\n",
       "    }\n",
       "\n",
       "    .dataframe tbody tr th {\n",
       "        vertical-align: top;\n",
       "    }\n",
       "\n",
       "    .dataframe thead th {\n",
       "        text-align: right;\n",
       "    }\n",
       "</style>\n",
       "<table border=\"1\" class=\"dataframe\">\n",
       "  <thead>\n",
       "    <tr style=\"text-align: right;\">\n",
       "      <th></th>\n",
       "      <th>id</th>\n",
       "      <th>user_id</th>\n",
       "      <th>user_login</th>\n",
       "      <th>user_name</th>\n",
       "      <th>game_id</th>\n",
       "      <th>game_name</th>\n",
       "      <th>type</th>\n",
       "      <th>title</th>\n",
       "      <th>viewer_count</th>\n",
       "      <th>started_at</th>\n",
       "      <th>language</th>\n",
       "      <th>thumbnail_url</th>\n",
       "      <th>tag_ids</th>\n",
       "      <th>tags</th>\n",
       "      <th>is_mature</th>\n",
       "    </tr>\n",
       "  </thead>\n",
       "  <tbody>\n",
       "    <tr>\n",
       "      <th>0</th>\n",
       "      <td>41908496216</td>\n",
       "      <td>90075649</td>\n",
       "      <td>illojuan</td>\n",
       "      <td>IlloJuan</td>\n",
       "      <td>509658</td>\n",
       "      <td>Just Chatting</td>\n",
       "      <td>live</td>\n",
       "      <td>EL CABRÓN 🐐 GRACIAS ❤️</td>\n",
       "      <td>48196</td>\n",
       "      <td>2024-02-19T20:22:35Z</td>\n",
       "      <td>es</td>\n",
       "      <td>https://static-cdn.jtvnw.net/previews-ttv/live...</td>\n",
       "      <td>[]</td>\n",
       "      <td>[Español]</td>\n",
       "      <td>False</td>\n",
       "    </tr>\n",
       "    <tr>\n",
       "      <th>1</th>\n",
       "      <td>50441180477</td>\n",
       "      <td>94753024</td>\n",
       "      <td>mizkif</td>\n",
       "      <td>Mizkif</td>\n",
       "      <td>509658</td>\n",
       "      <td>Just Chatting</td>\n",
       "      <td>live</td>\n",
       "      <td>GOING TO COMPETTING GYMS TO BRING IN NEW CUSTO...</td>\n",
       "      <td>28037</td>\n",
       "      <td>2024-02-19T20:53:08Z</td>\n",
       "      <td>en</td>\n",
       "      <td>https://static-cdn.jtvnw.net/previews-ttv/live...</td>\n",
       "      <td>[]</td>\n",
       "      <td>[ADHD, Osteoporosis, OTK, STARFORGE, STEROIDS,...</td>\n",
       "      <td>False</td>\n",
       "    </tr>\n",
       "    <tr>\n",
       "      <th>2</th>\n",
       "      <td>50441244317</td>\n",
       "      <td>552120296</td>\n",
       "      <td>zackrawrr</td>\n",
       "      <td>zackrawrr</td>\n",
       "      <td>509658</td>\n",
       "      <td>Just Chatting</td>\n",
       "      <td>live</td>\n",
       "      <td>BIG DAY--NEWS/REACTS/GAMES--WUTHERING   WAVES ...</td>\n",
       "      <td>27081</td>\n",
       "      <td>2024-02-19T21:01:08Z</td>\n",
       "      <td>en</td>\n",
       "      <td>https://static-cdn.jtvnw.net/previews-ttv/live...</td>\n",
       "      <td>[]</td>\n",
       "      <td>[English, OTK, otknetwork, StarForgePCs, wow, ...</td>\n",
       "      <td>False</td>\n",
       "    </tr>\n",
       "    <tr>\n",
       "      <th>3</th>\n",
       "      <td>41908401192</td>\n",
       "      <td>77827128</td>\n",
       "      <td>tumblurr</td>\n",
       "      <td>Tumblurr</td>\n",
       "      <td>509658</td>\n",
       "      <td>Just Chatting</td>\n",
       "      <td>live</td>\n",
       "      <td>KING IS ALIVE MEGA DRAMA ALERT | !vpn</td>\n",
       "      <td>25502</td>\n",
       "      <td>2024-02-19T20:06:20Z</td>\n",
       "      <td>it</td>\n",
       "      <td>https://static-cdn.jtvnw.net/previews-ttv/live...</td>\n",
       "      <td>[]</td>\n",
       "      <td>[Italiano]</td>\n",
       "      <td>False</td>\n",
       "    </tr>\n",
       "    <tr>\n",
       "      <th>4</th>\n",
       "      <td>43653906155</td>\n",
       "      <td>207813352</td>\n",
       "      <td>hasanabi</td>\n",
       "      <td>HasanAbi</td>\n",
       "      <td>509658</td>\n",
       "      <td>Just Chatting</td>\n",
       "      <td>live</td>\n",
       "      <td>🚨MONDAY NEWSDAY🚨GENZ CORRESPONDENT @SEANDABLAC...</td>\n",
       "      <td>20585</td>\n",
       "      <td>2024-02-19T19:25:06Z</td>\n",
       "      <td>en</td>\n",
       "      <td>https://static-cdn.jtvnw.net/previews-ttv/live...</td>\n",
       "      <td>[]</td>\n",
       "      <td>[news, politics, adhd, English]</td>\n",
       "      <td>False</td>\n",
       "    </tr>\n",
       "  </tbody>\n",
       "</table>\n",
       "</div>"
      ],
      "text/plain": [
       "            id    user_id user_login  user_name game_id      game_name  type  \\\n",
       "0  41908496216   90075649   illojuan   IlloJuan  509658  Just Chatting  live   \n",
       "1  50441180477   94753024     mizkif     Mizkif  509658  Just Chatting  live   \n",
       "2  50441244317  552120296  zackrawrr  zackrawrr  509658  Just Chatting  live   \n",
       "3  41908401192   77827128   tumblurr   Tumblurr  509658  Just Chatting  live   \n",
       "4  43653906155  207813352   hasanabi   HasanAbi  509658  Just Chatting  live   \n",
       "\n",
       "                                               title  viewer_count  \\\n",
       "0                             EL CABRÓN 🐐 GRACIAS ❤️         48196   \n",
       "1  GOING TO COMPETTING GYMS TO BRING IN NEW CUSTO...         28037   \n",
       "2  BIG DAY--NEWS/REACTS/GAMES--WUTHERING   WAVES ...         27081   \n",
       "3              KING IS ALIVE MEGA DRAMA ALERT | !vpn         25502   \n",
       "4  🚨MONDAY NEWSDAY🚨GENZ CORRESPONDENT @SEANDABLAC...         20585   \n",
       "\n",
       "             started_at language  \\\n",
       "0  2024-02-19T20:22:35Z       es   \n",
       "1  2024-02-19T20:53:08Z       en   \n",
       "2  2024-02-19T21:01:08Z       en   \n",
       "3  2024-02-19T20:06:20Z       it   \n",
       "4  2024-02-19T19:25:06Z       en   \n",
       "\n",
       "                                       thumbnail_url tag_ids  \\\n",
       "0  https://static-cdn.jtvnw.net/previews-ttv/live...      []   \n",
       "1  https://static-cdn.jtvnw.net/previews-ttv/live...      []   \n",
       "2  https://static-cdn.jtvnw.net/previews-ttv/live...      []   \n",
       "3  https://static-cdn.jtvnw.net/previews-ttv/live...      []   \n",
       "4  https://static-cdn.jtvnw.net/previews-ttv/live...      []   \n",
       "\n",
       "                                                tags  is_mature  \n",
       "0                                          [Español]      False  \n",
       "1  [ADHD, Osteoporosis, OTK, STARFORGE, STEROIDS,...      False  \n",
       "2  [English, OTK, otknetwork, StarForgePCs, wow, ...      False  \n",
       "3                                         [Italiano]      False  \n",
       "4                    [news, politics, adhd, English]      False  "
      ]
     },
     "execution_count": 31,
     "metadata": {},
     "output_type": "execute_result"
    }
   ],
   "source": [
    "topstreamsforgame_response_json = json.loads(topstreamsforgame_response.text)\n",
    "\n",
    "topstreamsforgame_data = topstreamsforgame_response_json['data']\n",
    "\n",
    "topstreamsforgame_df = pd.DataFrame.from_dict(json_normalize(topstreamsforgame_data), orient='columns')\n",
    "topstreamsforgame_df.head()"
   ]
  },
  {
   "cell_type": "markdown",
   "metadata": {},
   "source": [
    "### Automating the code pull"
   ]
  },
  {
   "cell_type": "markdown",
   "metadata": {},
   "source": [
    "Automating the pulling of top streamer data for top games. I put in a sleep timer for 30 seconds, so this snippet takes about 20 minutes to run depending on the recurrence of for loops"
   ]
  },
  {
   "cell_type": "code",
   "execution_count": 32,
   "metadata": {},
   "outputs": [
    {
     "name": "stdout",
     "output_type": "stream",
     "text": [
      "<class 'pandas.core.frame.DataFrame'>\n",
      "RangeIndex: 464 entries, 0 to 463\n",
      "Data columns (total 15 columns):\n",
      " #   Column         Non-Null Count  Dtype \n",
      "---  ------         --------------  ----- \n",
      " 0   id             464 non-null    object\n",
      " 1   user_id        464 non-null    object\n",
      " 2   user_login     464 non-null    object\n",
      " 3   user_name      464 non-null    object\n",
      " 4   game_id        464 non-null    object\n",
      " 5   game_name      464 non-null    object\n",
      " 6   type           464 non-null    object\n",
      " 7   title          464 non-null    object\n",
      " 8   viewer_count   464 non-null    int64 \n",
      " 9   started_at     464 non-null    object\n",
      " 10  language       464 non-null    object\n",
      " 11  thumbnail_url  464 non-null    object\n",
      " 12  tag_ids        464 non-null    object\n",
      " 13  tags           463 non-null    object\n",
      " 14  is_mature      464 non-null    bool  \n",
      "dtypes: bool(1), int64(1), object(13)\n",
      "memory usage: 51.3+ KB\n"
     ]
    }
   ],
   "source": [
    "# REALLY LONG CODE\n",
    "#Accessing API\n",
    "headers = {\n",
    "    'Authorization' : 'Bearer '+str(access_token),\n",
    "    'Client-ID': client_id,\n",
    "}\n",
    "topstreamsforgame_response = requests.get('https://api.twitch.tv/helix/streams?game_id='+str(topgames_df['id'][0])+'&first=25', headers=headers)\n",
    "\n",
    "# Converting to JSON\n",
    "topstreamsforgame_response_json = json.loads(topstreamsforgame_response.text)\n",
    "\n",
    "# Getting data from the JSON\n",
    "topstreamsforgame_data = topstreamsforgame_response_json['data']\n",
    "\n",
    "# Converting into a DataFrame\n",
    "topstreamsforgame_df = pd.DataFrame.from_dict(json_normalize(topstreamsforgame_data), orient='columns')\n",
    "\n",
    "# Automated flow\n",
    "for i in range(1,19) :\n",
    "    \n",
    "    headers = {\n",
    "        'Authorization' : 'Bearer '+str(access_token),\n",
    "        'Client-ID': client_id,\n",
    "    }\n",
    "    topstreamsforgame_response = requests.get('https://api.twitch.tv/helix/streams?game_id='+str(topgames_df['id'][i])+'&first=25', headers=headers)\n",
    "    \n",
    "    topstreamsforgame_response_json = json.loads(topstreamsforgame_response.text)\n",
    "    topstreamsforgame_data = topstreamsforgame_response_json['data']\n",
    "    topstreamsforgame_df_temp = pd.DataFrame.from_dict(json_normalize(topstreamsforgame_data), orient='columns')\n",
    "    \n",
    "    frames = [topstreamsforgame_df, topstreamsforgame_df_temp]\n",
    "    topstreamsforgame_df = pd.concat(frames, ignore_index=True)\n",
    "    \n",
    "    #time.sleep(30)\n",
    "\n",
    "topstreamsforgame_df.info()"
   ]
  },
  {
   "cell_type": "code",
   "execution_count": 42,
   "metadata": {},
   "outputs": [
    {
     "data": {
      "text/html": [
       "<div>\n",
       "<style scoped>\n",
       "    .dataframe tbody tr th:only-of-type {\n",
       "        vertical-align: middle;\n",
       "    }\n",
       "\n",
       "    .dataframe tbody tr th {\n",
       "        vertical-align: top;\n",
       "    }\n",
       "\n",
       "    .dataframe thead th {\n",
       "        text-align: right;\n",
       "    }\n",
       "</style>\n",
       "<table border=\"1\" class=\"dataframe\">\n",
       "  <thead>\n",
       "    <tr style=\"text-align: right;\">\n",
       "      <th></th>\n",
       "      <th>id</th>\n",
       "      <th>user_id</th>\n",
       "      <th>user_login</th>\n",
       "      <th>user_name</th>\n",
       "      <th>game_id</th>\n",
       "      <th>game_name</th>\n",
       "      <th>type</th>\n",
       "      <th>title</th>\n",
       "      <th>viewer_count</th>\n",
       "      <th>started_at</th>\n",
       "      <th>language</th>\n",
       "      <th>thumbnail_url</th>\n",
       "      <th>tag_ids</th>\n",
       "      <th>tags</th>\n",
       "      <th>is_mature</th>\n",
       "    </tr>\n",
       "  </thead>\n",
       "  <tbody>\n",
       "    <tr>\n",
       "      <th>0</th>\n",
       "      <td>41908496216</td>\n",
       "      <td>90075649</td>\n",
       "      <td>illojuan</td>\n",
       "      <td>IlloJuan</td>\n",
       "      <td>509658</td>\n",
       "      <td>Just Chatting</td>\n",
       "      <td>live</td>\n",
       "      <td>EL CABRÓN 🐐 GRACIAS ❤️</td>\n",
       "      <td>48196</td>\n",
       "      <td>2024-02-19T20:22:35Z</td>\n",
       "      <td>es</td>\n",
       "      <td>https://static-cdn.jtvnw.net/previews-ttv/live...</td>\n",
       "      <td>[]</td>\n",
       "      <td>[Español]</td>\n",
       "      <td>False</td>\n",
       "    </tr>\n",
       "    <tr>\n",
       "      <th>1</th>\n",
       "      <td>50441180477</td>\n",
       "      <td>94753024</td>\n",
       "      <td>mizkif</td>\n",
       "      <td>Mizkif</td>\n",
       "      <td>509658</td>\n",
       "      <td>Just Chatting</td>\n",
       "      <td>live</td>\n",
       "      <td>GOING TO COMPETTING GYMS TO BRING IN NEW CUSTO...</td>\n",
       "      <td>28037</td>\n",
       "      <td>2024-02-19T20:53:08Z</td>\n",
       "      <td>en</td>\n",
       "      <td>https://static-cdn.jtvnw.net/previews-ttv/live...</td>\n",
       "      <td>[]</td>\n",
       "      <td>[ADHD, Osteoporosis, OTK, STARFORGE, STEROIDS,...</td>\n",
       "      <td>False</td>\n",
       "    </tr>\n",
       "    <tr>\n",
       "      <th>2</th>\n",
       "      <td>50441244317</td>\n",
       "      <td>552120296</td>\n",
       "      <td>zackrawrr</td>\n",
       "      <td>zackrawrr</td>\n",
       "      <td>509658</td>\n",
       "      <td>Just Chatting</td>\n",
       "      <td>live</td>\n",
       "      <td>BIG DAY--NEWS/REACTS/GAMES--WUTHERING   WAVES ...</td>\n",
       "      <td>27081</td>\n",
       "      <td>2024-02-19T21:01:08Z</td>\n",
       "      <td>en</td>\n",
       "      <td>https://static-cdn.jtvnw.net/previews-ttv/live...</td>\n",
       "      <td>[]</td>\n",
       "      <td>[English, OTK, otknetwork, StarForgePCs, wow, ...</td>\n",
       "      <td>False</td>\n",
       "    </tr>\n",
       "    <tr>\n",
       "      <th>3</th>\n",
       "      <td>41908401192</td>\n",
       "      <td>77827128</td>\n",
       "      <td>tumblurr</td>\n",
       "      <td>Tumblurr</td>\n",
       "      <td>509658</td>\n",
       "      <td>Just Chatting</td>\n",
       "      <td>live</td>\n",
       "      <td>KING IS ALIVE MEGA DRAMA ALERT | !vpn</td>\n",
       "      <td>25502</td>\n",
       "      <td>2024-02-19T20:06:20Z</td>\n",
       "      <td>it</td>\n",
       "      <td>https://static-cdn.jtvnw.net/previews-ttv/live...</td>\n",
       "      <td>[]</td>\n",
       "      <td>[Italiano]</td>\n",
       "      <td>False</td>\n",
       "    </tr>\n",
       "    <tr>\n",
       "      <th>4</th>\n",
       "      <td>43653906155</td>\n",
       "      <td>207813352</td>\n",
       "      <td>hasanabi</td>\n",
       "      <td>HasanAbi</td>\n",
       "      <td>509658</td>\n",
       "      <td>Just Chatting</td>\n",
       "      <td>live</td>\n",
       "      <td>🚨MONDAY NEWSDAY🚨GENZ CORRESPONDENT @SEANDABLAC...</td>\n",
       "      <td>20585</td>\n",
       "      <td>2024-02-19T19:25:06Z</td>\n",
       "      <td>en</td>\n",
       "      <td>https://static-cdn.jtvnw.net/previews-ttv/live...</td>\n",
       "      <td>[]</td>\n",
       "      <td>[news, politics, adhd, English]</td>\n",
       "      <td>False</td>\n",
       "    </tr>\n",
       "  </tbody>\n",
       "</table>\n",
       "</div>"
      ],
      "text/plain": [
       "            id    user_id user_login  user_name game_id      game_name  type  \\\n",
       "0  41908496216   90075649   illojuan   IlloJuan  509658  Just Chatting  live   \n",
       "1  50441180477   94753024     mizkif     Mizkif  509658  Just Chatting  live   \n",
       "2  50441244317  552120296  zackrawrr  zackrawrr  509658  Just Chatting  live   \n",
       "3  41908401192   77827128   tumblurr   Tumblurr  509658  Just Chatting  live   \n",
       "4  43653906155  207813352   hasanabi   HasanAbi  509658  Just Chatting  live   \n",
       "\n",
       "                                               title  viewer_count  \\\n",
       "0                             EL CABRÓN 🐐 GRACIAS ❤️         48196   \n",
       "1  GOING TO COMPETTING GYMS TO BRING IN NEW CUSTO...         28037   \n",
       "2  BIG DAY--NEWS/REACTS/GAMES--WUTHERING   WAVES ...         27081   \n",
       "3              KING IS ALIVE MEGA DRAMA ALERT | !vpn         25502   \n",
       "4  🚨MONDAY NEWSDAY🚨GENZ CORRESPONDENT @SEANDABLAC...         20585   \n",
       "\n",
       "             started_at language  \\\n",
       "0  2024-02-19T20:22:35Z       es   \n",
       "1  2024-02-19T20:53:08Z       en   \n",
       "2  2024-02-19T21:01:08Z       en   \n",
       "3  2024-02-19T20:06:20Z       it   \n",
       "4  2024-02-19T19:25:06Z       en   \n",
       "\n",
       "                                       thumbnail_url tag_ids  \\\n",
       "0  https://static-cdn.jtvnw.net/previews-ttv/live...      []   \n",
       "1  https://static-cdn.jtvnw.net/previews-ttv/live...      []   \n",
       "2  https://static-cdn.jtvnw.net/previews-ttv/live...      []   \n",
       "3  https://static-cdn.jtvnw.net/previews-ttv/live...      []   \n",
       "4  https://static-cdn.jtvnw.net/previews-ttv/live...      []   \n",
       "\n",
       "                                                tags  is_mature  \n",
       "0                                          [Español]      False  \n",
       "1  [ADHD, Osteoporosis, OTK, STARFORGE, STEROIDS,...      False  \n",
       "2  [English, OTK, otknetwork, StarForgePCs, wow, ...      False  \n",
       "3                                         [Italiano]      False  \n",
       "4                    [news, politics, adhd, English]      False  "
      ]
     },
     "execution_count": 42,
     "metadata": {},
     "output_type": "execute_result"
    }
   ],
   "source": [
    "topstreamsforgame_df.head()"
   ]
  },
  {
   "cell_type": "code",
   "execution_count": 34,
   "metadata": {},
   "outputs": [],
   "source": [
    "export_topstreamsforgame_csv = topstreamsforgame_df.to_csv (r'D:/UTD/Notebooks/Twitch/topstreamsforgame.csv', index = None, header=True)"
   ]
  }
 ],
 "metadata": {
  "kernelspec": {
   "display_name": "Python 3",
   "language": "python",
   "name": "python3"
  },
  "language_info": {
   "codemirror_mode": {
    "name": "ipython",
    "version": 3
   },
   "file_extension": ".py",
   "mimetype": "text/x-python",
   "name": "python",
   "nbconvert_exporter": "python",
   "pygments_lexer": "ipython3",
   "version": "3.11.0"
  }
 },
 "nbformat": 4,
 "nbformat_minor": 2
}
